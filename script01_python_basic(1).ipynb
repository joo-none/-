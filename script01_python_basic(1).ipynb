{
 "cells": [
  {
   "cell_type": "markdown",
   "metadata": {
    "id": "ok7o8lEYqD1a"
   },
   "source": [
    "<h1>파이썬 기초</h1><br>"
   ]
  },
  {
   "cell_type": "markdown",
   "metadata": {
    "id": "nY9fRMNTqMxz"
   },
   "source": [
    "# 데이터 타입"
   ]
  },
  {
   "cell_type": "markdown",
   "metadata": {
    "id": "_2-WNZ9PqQ1j"
   },
   "source": [
    "숫자형 데이터"
   ]
  },
  {
   "cell_type": "code",
   "execution_count": 1,
   "metadata": {
    "ExecuteTime": {
     "end_time": "2023-10-19T10:31:03.355372Z",
     "start_time": "2023-10-19T10:31:03.341480Z"
    },
    "colab": {
     "base_uri": "https://localhost:8080/"
    },
    "id": "vYMpuCnAqQGr",
    "outputId": "9be51f0b-570a-486d-e56d-f50ed439f176"
   },
   "outputs": [
    {
     "name": "stdout",
     "output_type": "stream",
     "text": [
      "1 + 2 = 3\n"
     ]
    }
   ],
   "source": [
    "a = 1\n",
    "b = 2\n",
    "c = a+b\n",
    "print(a,'+',b,'=',c) # 출력함수"
   ]
  },
  {
   "cell_type": "code",
   "execution_count": 2,
   "metadata": {
    "ExecuteTime": {
     "end_time": "2023-10-19T10:31:03.370400Z",
     "start_time": "2023-10-19T10:31:03.357400Z"
    },
    "colab": {
     "base_uri": "https://localhost:8080/"
    },
    "id": "yL8WKZ0ypY6g",
    "outputId": "314154eb-abe5-4b48-cdcf-349809ef46cb"
   },
   "outputs": [
    {
     "name": "stdout",
     "output_type": "stream",
     "text": [
      "8 2 15 1.6666666666666667 2\n"
     ]
    }
   ],
   "source": [
    "# 사칙연산: 덧셈, 뺄셈, 곱셈, 나눗셈, 나머지\n",
    "a = 5\n",
    "b = 3\n",
    "print(a+b,a-b,a*b,a/b,a%b)"
   ]
  },
  {
   "cell_type": "markdown",
   "metadata": {
    "id": "R6pVPkdrqtwX"
   },
   "source": [
    "문자열 데이터"
   ]
  },
  {
   "cell_type": "code",
   "execution_count": 3,
   "metadata": {
    "ExecuteTime": {
     "end_time": "2023-10-19T10:31:03.385910Z",
     "start_time": "2023-10-19T10:31:03.372401Z"
    },
    "colab": {
     "base_uri": "https://localhost:8080/"
    },
    "id": "rBQXR3uNrFPN",
    "outputId": "cbb75f4f-33a9-45c2-c828-5f976f452970"
   },
   "outputs": [
    {
     "name": "stdout",
     "output_type": "stream",
     "text": [
      "Hello 5\n",
      "H e o\n"
     ]
    }
   ],
   "source": [
    "a = 'Hello'  # 문자열은 '' 혹은 \"\"로 표현\n",
    "print(a, len(a)) # len() 문자열의 길이\n",
    "# 문자열에서 각 문자 참조\n",
    "# 순서대로 0, 1, 2, ...; 뒤에서부터 -1, -2, -3 ...\n",
    "print(a[0],a[1],a[-1])"
   ]
  },
  {
   "cell_type": "code",
   "execution_count": 4,
   "metadata": {
    "ExecuteTime": {
     "end_time": "2023-10-19T10:31:03.400914Z",
     "start_time": "2023-10-19T10:31:03.386910Z"
    },
    "colab": {
     "base_uri": "https://localhost:8080/"
    },
    "id": "6vZptj-jrLBs",
    "outputId": "eceb98a6-b3f8-4db4-c354-a89c498482bb"
   },
   "outputs": [
    {
     "name": "stdout",
     "output_type": "stream",
     "text": [
      "HelloWorld\n"
     ]
    }
   ],
   "source": [
    "a = 'Hello'\n",
    "b = 'World'\n",
    "print(a+b) # 문자열 합치기"
   ]
  },
  {
   "cell_type": "markdown",
   "metadata": {
    "id": "yJgHhHfvrpvv"
   },
   "source": [
    "리스트 데이터"
   ]
  },
  {
   "cell_type": "code",
   "execution_count": 5,
   "metadata": {
    "ExecuteTime": {
     "end_time": "2023-10-19T10:31:03.415917Z",
     "start_time": "2023-10-19T10:31:03.401914Z"
    },
    "colab": {
     "base_uri": "https://localhost:8080/"
    },
    "id": "cb2m6_S7reFj",
    "outputId": "52ea97a8-4007-4f75-9f15-04c38ed69bc7"
   },
   "outputs": [
    {
     "name": "stdout",
     "output_type": "stream",
     "text": [
      "1\n",
      "-3.1\n",
      "[5, 'b'] 5\n"
     ]
    }
   ],
   "source": [
    "# 리스트: 여러개의 값을 갖고 있는 데이터 타입\n",
    "# 각 원소는 0, 1, 2... 로 참조 (인덱싱)\n",
    "# 뒤에서부터는 -1, -2 ...\n",
    "a = [1,-3.1,'hello',[5,'b']]\n",
    "print(a[0])\n",
    "print(a[1])\n",
    "print(a[3],a[3][0])"
   ]
  },
  {
   "cell_type": "code",
   "execution_count": 6,
   "metadata": {
    "ExecuteTime": {
     "end_time": "2023-10-19T10:31:03.430924Z",
     "start_time": "2023-10-19T10:31:03.416919Z"
    },
    "colab": {
     "base_uri": "https://localhost:8080/"
    },
    "id": "mnaXeicxr3z-",
    "outputId": "052275f8-7f91-4bd5-929e-ba65d4b3904d"
   },
   "outputs": [
    {
     "name": "stdout",
     "output_type": "stream",
     "text": [
      "[1, -3.1, 'hello', [5, 'b'], 'added']\n"
     ]
    }
   ],
   "source": [
    "a.append('added') # 새로운 값의 추가\n",
    "print(a)"
   ]
  },
  {
   "cell_type": "markdown",
   "metadata": {
    "id": "6Zy_taUjtU70"
   },
   "source": [
    "딕셔너리 데이터"
   ]
  },
  {
   "cell_type": "code",
   "execution_count": 7,
   "metadata": {
    "ExecuteTime": {
     "end_time": "2023-10-19T10:31:03.445923Z",
     "start_time": "2023-10-19T10:31:03.431924Z"
    },
    "colab": {
     "base_uri": "https://localhost:8080/"
    },
    "id": "GWBtN1f1siT-",
    "outputId": "c8f3ed02-8977-4a84-e043-e4e61feebfa0"
   },
   "outputs": [
    {
     "name": "stdout",
     "output_type": "stream",
     "text": [
      "1 2 three 4\n"
     ]
    }
   ],
   "source": [
    "# 딕셔너리: 키-값 의 쌍을 갖는 데이터 타입\n",
    "# 변수[키]로 값을 참조\n",
    "a = {'one':1, 'two':2, 3:'three', 4:4}\n",
    "print(a['one'],a['two'],a[3],a[4])"
   ]
  },
  {
   "cell_type": "code",
   "execution_count": 8,
   "metadata": {
    "ExecuteTime": {
     "end_time": "2023-10-19T10:31:03.460934Z",
     "start_time": "2023-10-19T10:31:03.446923Z"
    },
    "colab": {
     "base_uri": "https://localhost:8080/"
    },
    "id": "kqnDKFGBuLjo",
    "outputId": "f067e201-a641-4f54-f2cd-dfe9e1d17391"
   },
   "outputs": [
    {
     "name": "stdout",
     "output_type": "stream",
     "text": [
      "{'one': 1, 'two': 2, 3: 'three', 4: 4, 'five': 'fivefive'}\n"
     ]
    }
   ],
   "source": [
    "a['five'] = 'fivefive'  # 새로운 키로 새로운 값을 추가\n",
    "print(a)"
   ]
  },
  {
   "cell_type": "code",
   "execution_count": null,
   "metadata": {
    "id": "XI46_U6su-Qm"
   },
   "outputs": [],
   "source": []
  },
  {
   "cell_type": "markdown",
   "metadata": {
    "id": "C12A8tgBvFYz"
   },
   "source": [
    "# 조건문과 반복문"
   ]
  },
  {
   "cell_type": "markdown",
   "metadata": {
    "id": "Oc6-do-BvTeM"
   },
   "source": [
    "조건문"
   ]
  },
  {
   "cell_type": "code",
   "execution_count": 9,
   "metadata": {
    "ExecuteTime": {
     "end_time": "2023-10-19T10:31:03.475936Z",
     "start_time": "2023-10-19T10:31:03.462936Z"
    },
    "colab": {
     "base_uri": "https://localhost:8080/"
    },
    "id": "r50zEYAzvTBu",
    "outputId": "8856e3b9-73e9-46e8-eb7e-8c85372967b8"
   },
   "outputs": [
    {
     "name": "stdout",
     "output_type": "stream",
     "text": [
      "10 is larger or equal to 10\n"
     ]
    }
   ],
   "source": [
    "a = 10\n",
    "if a < 5:\n",
    "  print(a,'is less than 5')\n",
    "elif a < 10:\n",
    "  print(a,'is larger or equal to 5 and less than 10')\n",
    "else:\n",
    "  print(a,'is larger or equal to 10')"
   ]
  },
  {
   "cell_type": "code",
   "execution_count": 10,
   "metadata": {
    "ExecuteTime": {
     "end_time": "2023-10-19T10:31:03.491444Z",
     "start_time": "2023-10-19T10:31:03.477444Z"
    },
    "colab": {
     "base_uri": "https://localhost:8080/"
    },
    "id": "lzMSTzMavPKO",
    "outputId": "b8a630f7-7ae5-4d0b-84cf-04ce2da4eea8"
   },
   "outputs": [
    {
     "name": "stdout",
     "output_type": "stream",
     "text": [
      "not equal\n"
     ]
    }
   ],
   "source": [
    "b = 'hello'\n",
    "if b == 'world':\n",
    "  print('equal')\n",
    "else:\n",
    "  print('not equal')"
   ]
  },
  {
   "cell_type": "markdown",
   "metadata": {
    "id": "x0aNdCkOxhqN"
   },
   "source": [
    "반복문"
   ]
  },
  {
   "cell_type": "code",
   "execution_count": 11,
   "metadata": {
    "ExecuteTime": {
     "end_time": "2023-10-19T10:31:03.506451Z",
     "start_time": "2023-10-19T10:31:03.492445Z"
    },
    "colab": {
     "base_uri": "https://localhost:8080/"
    },
    "id": "4747guKwxhVy",
    "outputId": "31e97be8-c5bb-4673-9d15-97688b2aa14b"
   },
   "outputs": [
    {
     "name": "stdout",
     "output_type": "stream",
     "text": [
      "1\n",
      "two\n",
      "[3, 4]\n"
     ]
    }
   ],
   "source": [
    "A = [1, 'two',[3,4]]\n",
    "for a in A:\n",
    "  print(a)"
   ]
  },
  {
   "cell_type": "code",
   "execution_count": 12,
   "metadata": {
    "ExecuteTime": {
     "end_time": "2023-10-19T10:31:03.521473Z",
     "start_time": "2023-10-19T10:31:03.507454Z"
    },
    "colab": {
     "base_uri": "https://localhost:8080/"
    },
    "id": "LTrbMkazvJ0Q",
    "outputId": "36f0ea8a-ee06-4dfc-e9f3-11277f0c6b60"
   },
   "outputs": [
    {
     "name": "stdout",
     "output_type": "stream",
     "text": [
      "45\n"
     ]
    }
   ],
   "source": [
    "s = 0\n",
    "for i in range(10):\n",
    "  s = s+i\n",
    "print(s)"
   ]
  },
  {
   "cell_type": "code",
   "execution_count": 13,
   "metadata": {
    "ExecuteTime": {
     "end_time": "2023-10-19T10:31:03.536473Z",
     "start_time": "2023-10-19T10:31:03.522474Z"
    },
    "colab": {
     "base_uri": "https://localhost:8080/"
    },
    "id": "dGFZOr9ax20q",
    "outputId": "52af308d-c7c6-45bc-d86e-c08e21a81006"
   },
   "outputs": [
    {
     "name": "stdout",
     "output_type": "stream",
     "text": [
      "1665\n"
     ]
    }
   ],
   "source": [
    "s = 0\n",
    "for i in range(10,100):\n",
    "  if i%3 == 0:\n",
    "    s = s+i\n",
    "print(s)"
   ]
  },
  {
   "cell_type": "markdown",
   "metadata": {
    "id": "LKKlzMEcyFpw"
   },
   "source": [
    "# 예제"
   ]
  },
  {
   "cell_type": "markdown",
   "metadata": {
    "id": "e_K6C5Abyacj"
   },
   "source": [
    "1. 소수 판별"
   ]
  },
  {
   "cell_type": "code",
   "execution_count": 14,
   "metadata": {
    "ExecuteTime": {
     "end_time": "2023-10-19T10:31:03.551473Z",
     "start_time": "2023-10-19T10:31:03.537473Z"
    },
    "colab": {
     "base_uri": "https://localhost:8080/"
    },
    "id": "XQygmovIyaAb",
    "outputId": "15b51cb4-6ae7-4f5e-9d7e-60cc3469d7db"
   },
   "outputs": [
    {
     "name": "stdout",
     "output_type": "stream",
     "text": [
      "97 is a prime number\n"
     ]
    }
   ],
   "source": [
    "n = 97\n",
    "\n",
    "k = 0\n",
    "for i in range(2,n):\n",
    "  if n%i == 0:\n",
    "    k = k+1\n",
    "\n",
    "if k == 0:\n",
    "  print(n,'is a prime number')\n",
    "else:\n",
    "  print(n,'is not a prime number')"
   ]
  },
  {
   "cell_type": "code",
   "execution_count": 15,
   "metadata": {
    "ExecuteTime": {
     "end_time": "2023-10-19T10:31:03.566477Z",
     "start_time": "2023-10-19T10:31:03.552473Z"
    }
   },
   "outputs": [
    {
     "name": "stdout",
     "output_type": "stream",
     "text": [
      "9 은 소수가 아니다. 1\n"
     ]
    }
   ],
   "source": [
    "## 실습\n",
    "\n",
    "n = 9\n",
    "\n",
    "k = 0\n",
    "\n",
    "for i in range (2, n):\n",
    "    if n%i == 0:\n",
    "        k = k+1\n",
    "        \n",
    "if k == 0:\n",
    "    print(n, '은 소수')\n",
    "else:\n",
    "    print(n, '은 소수가 아니다.', k)"
   ]
  },
  {
   "cell_type": "markdown",
   "metadata": {
    "id": "9YaQWx7tzIXO"
   },
   "source": [
    "2. 알파벳 세기"
   ]
  },
  {
   "cell_type": "code",
   "execution_count": 16,
   "metadata": {
    "ExecuteTime": {
     "end_time": "2023-10-19T10:31:03.581964Z",
     "start_time": "2023-10-19T10:31:03.567478Z"
    },
    "colab": {
     "base_uri": "https://localhost:8080/"
    },
    "id": "o1LlnvgOyFCD",
    "outputId": "05a80f03-fc81-49eb-af78-074821d350cc"
   },
   "outputs": [
    {
     "name": "stdout",
     "output_type": "stream",
     "text": [
      "a 1\n",
      "c 1\n",
      "d 1\n",
      "e 3\n",
      "h 1\n",
      "i 1\n",
      "l 2\n",
      "m 2\n",
      "n 1\n",
      "o 7\n",
      "s 1\n",
      "t 1\n",
      "u 3\n",
      "v 2\n",
      "y 2\n"
     ]
    }
   ],
   "source": [
    "alphabets = 'abcdefghijklmnopqrstuvwxyz'\n",
    "sentence = 'iloveyousomuchandyoulovemetoo'\n",
    "count = {} # 빈 딕셔너리\n",
    "for c in alphabets:  # 각 알파벳의 카운트를 0으로 세팅\n",
    "  count[c] = 0\n",
    "for c in sentence:   # 문장에 포함된 알파벳을 1씩 증가\n",
    "  count[c] = count[c]+1\n",
    "for c in alphabets:  # 존재하는 알파벳에 대하여 출력\n",
    "  if count[c]>0:\n",
    "    print(c,count[c])"
   ]
  },
  {
   "cell_type": "markdown",
   "metadata": {
    "id": "yY6dE4BPAJU0"
   },
   "source": [
    "# 연습문제"
   ]
  },
  {
   "cell_type": "markdown",
   "metadata": {
    "id": "eoaRxtY_AOE6"
   },
   "source": [
    "1. 1000이상 2000미만의 숫자 중에서 7의 배수의 합은 얼마인가?"
   ]
  },
  {
   "cell_type": "code",
   "execution_count": 17,
   "metadata": {
    "ExecuteTime": {
     "end_time": "2023-10-19T10:31:03.596971Z",
     "start_time": "2023-10-19T10:31:03.582964Z"
    }
   },
   "outputs": [
    {
     "data": {
      "text/plain": [
       "(214214,\n",
       " [1001,\n",
       "  1008,\n",
       "  1015,\n",
       "  1022,\n",
       "  1029,\n",
       "  1036,\n",
       "  1043,\n",
       "  1050,\n",
       "  1057,\n",
       "  1064,\n",
       "  1071,\n",
       "  1078,\n",
       "  1085,\n",
       "  1092,\n",
       "  1099,\n",
       "  1106,\n",
       "  1113,\n",
       "  1120,\n",
       "  1127,\n",
       "  1134,\n",
       "  1141,\n",
       "  1148,\n",
       "  1155,\n",
       "  1162,\n",
       "  1169,\n",
       "  1176,\n",
       "  1183,\n",
       "  1190,\n",
       "  1197,\n",
       "  1204,\n",
       "  1211,\n",
       "  1218,\n",
       "  1225,\n",
       "  1232,\n",
       "  1239,\n",
       "  1246,\n",
       "  1253,\n",
       "  1260,\n",
       "  1267,\n",
       "  1274,\n",
       "  1281,\n",
       "  1288,\n",
       "  1295,\n",
       "  1302,\n",
       "  1309,\n",
       "  1316,\n",
       "  1323,\n",
       "  1330,\n",
       "  1337,\n",
       "  1344,\n",
       "  1351,\n",
       "  1358,\n",
       "  1365,\n",
       "  1372,\n",
       "  1379,\n",
       "  1386,\n",
       "  1393,\n",
       "  1400,\n",
       "  1407,\n",
       "  1414,\n",
       "  1421,\n",
       "  1428,\n",
       "  1435,\n",
       "  1442,\n",
       "  1449,\n",
       "  1456,\n",
       "  1463,\n",
       "  1470,\n",
       "  1477,\n",
       "  1484,\n",
       "  1491,\n",
       "  1498,\n",
       "  1505,\n",
       "  1512,\n",
       "  1519,\n",
       "  1526,\n",
       "  1533,\n",
       "  1540,\n",
       "  1547,\n",
       "  1554,\n",
       "  1561,\n",
       "  1568,\n",
       "  1575,\n",
       "  1582,\n",
       "  1589,\n",
       "  1596,\n",
       "  1603,\n",
       "  1610,\n",
       "  1617,\n",
       "  1624,\n",
       "  1631,\n",
       "  1638,\n",
       "  1645,\n",
       "  1652,\n",
       "  1659,\n",
       "  1666,\n",
       "  1673,\n",
       "  1680,\n",
       "  1687,\n",
       "  1694,\n",
       "  1701,\n",
       "  1708,\n",
       "  1715,\n",
       "  1722,\n",
       "  1729,\n",
       "  1736,\n",
       "  1743,\n",
       "  1750,\n",
       "  1757,\n",
       "  1764,\n",
       "  1771,\n",
       "  1778,\n",
       "  1785,\n",
       "  1792,\n",
       "  1799,\n",
       "  1806,\n",
       "  1813,\n",
       "  1820,\n",
       "  1827,\n",
       "  1834,\n",
       "  1841,\n",
       "  1848,\n",
       "  1855,\n",
       "  1862,\n",
       "  1869,\n",
       "  1876,\n",
       "  1883,\n",
       "  1890,\n",
       "  1897,\n",
       "  1904,\n",
       "  1911,\n",
       "  1918,\n",
       "  1925,\n",
       "  1932,\n",
       "  1939,\n",
       "  1946,\n",
       "  1953,\n",
       "  1960,\n",
       "  1967,\n",
       "  1974,\n",
       "  1981,\n",
       "  1988,\n",
       "  1995],\n",
       " 214214)"
      ]
     },
     "execution_count": 17,
     "metadata": {},
     "output_type": "execute_result"
    }
   ],
   "source": [
    "list1 = []\n",
    "a = 0\n",
    "\n",
    "for i in range (1000, 2000, 1):\n",
    "    if i%7 == 0:\n",
    "        list1.append(i)\n",
    "        a += i\n",
    "a, list1, sum(list1)\n",
    "    "
   ]
  },
  {
   "cell_type": "markdown",
   "metadata": {
    "id": "NetIx0jBAZ9g"
   },
   "source": [
    "2. 1000이상 2000미만의 숫자 중에서 소수는 몇 개인가?"
   ]
  },
  {
   "cell_type": "code",
   "execution_count": 40,
   "metadata": {
    "ExecuteTime": {
     "end_time": "2023-10-19T10:45:23.483737Z",
     "start_time": "2023-10-19T10:45:23.462229Z"
    }
   },
   "outputs": [
    {
     "data": {
      "text/plain": [
       "135"
      ]
     },
     "execution_count": 40,
     "metadata": {},
     "output_type": "execute_result"
    }
   ],
   "source": [
    "# 내 풀이\n",
    "\n",
    "list2 = list(range(1000, 2000))\n",
    "\n",
    "for i in range(1000, 2000):\n",
    "    for j in range(2, i):\n",
    "        if i%j == 0:\n",
    "            list2.remove(i)\n",
    "            break\n",
    "\n",
    "len(list2)"
   ]
  },
  {
   "cell_type": "code",
   "execution_count": 29,
   "metadata": {
    "ExecuteTime": {
     "end_time": "2023-10-19T10:37:42.573350Z",
     "start_time": "2023-10-19T10:37:42.557193Z"
    }
   },
   "outputs": [
    {
     "name": "stdout",
     "output_type": "stream",
     "text": [
      "135\n"
     ]
    }
   ],
   "source": [
    "## 해설\n",
    "\n",
    "prime_count = 0\n",
    "for i in range(1000, 2000):\n",
    "    is_prime = True\n",
    "    for j in range(2, i):\n",
    "        if (i % j) == 0:\n",
    "            is_prime = False\n",
    "            break\n",
    "    if is_prime:\n",
    "        prime_count += 1\n",
    "print(prime_count)"
   ]
  },
  {
   "cell_type": "code",
   "execution_count": null,
   "metadata": {},
   "outputs": [],
   "source": []
  }
 ],
 "metadata": {
  "colab": {
   "provenance": []
  },
  "kernelspec": {
   "display_name": "Python 3 (ipykernel)",
   "language": "python",
   "name": "python3"
  },
  "language_info": {
   "codemirror_mode": {
    "name": "ipython",
    "version": 3
   },
   "file_extension": ".py",
   "mimetype": "text/x-python",
   "name": "python",
   "nbconvert_exporter": "python",
   "pygments_lexer": "ipython3",
   "version": "3.9.13"
  },
  "toc": {
   "base_numbering": 1,
   "nav_menu": {},
   "number_sections": true,
   "sideBar": true,
   "skip_h1_title": false,
   "title_cell": "Table of Contents",
   "title_sidebar": "Contents",
   "toc_cell": false,
   "toc_position": {},
   "toc_section_display": true,
   "toc_window_display": false
  },
  "varInspector": {
   "cols": {
    "lenName": 16,
    "lenType": 16,
    "lenVar": 40
   },
   "kernels_config": {
    "python": {
     "delete_cmd_postfix": "",
     "delete_cmd_prefix": "del ",
     "library": "var_list.py",
     "varRefreshCmd": "print(var_dic_list())"
    },
    "r": {
     "delete_cmd_postfix": ") ",
     "delete_cmd_prefix": "rm(",
     "library": "var_list.r",
     "varRefreshCmd": "cat(var_dic_list()) "
    }
   },
   "types_to_exclude": [
    "module",
    "function",
    "builtin_function_or_method",
    "instance",
    "_Feature"
   ],
   "window_display": false
  }
 },
 "nbformat": 4,
 "nbformat_minor": 1
}
