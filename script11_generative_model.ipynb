{
 "cells": [
  {
   "cell_type": "markdown",
   "metadata": {
    "id": "PAP7Eid90pm3"
   },
   "source": [
    "<h1>생성 모델</h1>"
   ]
  },
  {
   "cell_type": "code",
   "execution_count": 1,
   "metadata": {
    "id": "uvC2lR1G0pXf"
   },
   "outputs": [],
   "source": [
    "# 라이브러리\n",
    "import tensorflow as tf\n",
    "import numpy as np\n",
    "import matplotlib.pyplot as plt"
   ]
  },
  {
   "cell_type": "code",
   "execution_count": 2,
   "metadata": {
    "colab": {
     "base_uri": "https://localhost:8080/"
    },
    "id": "OP0JgmZD0g4f",
    "outputId": "30c78e02-fd06-4efb-aabd-d95b16193f2e"
   },
   "outputs": [
    {
     "name": "stdout",
     "output_type": "stream",
     "text": [
      "Downloading data from https://storage.googleapis.com/tensorflow/tf-keras-datasets/mnist.npz\n",
      "11490434/11490434 [==============================] - 1s 0us/step\n",
      "(60000, 784) (10000, 784)\n"
     ]
    }
   ],
   "source": [
    "# MNIST 데이터, 1D 데이터로 Flatten하여 사용\n",
    "mnist = tf.keras.datasets.mnist\n",
    "(xtrain,ytrain), (xtest,ytest) = mnist.load_data()\n",
    "xtrain, xtest = xtrain/255.0, xtest/255.0\n",
    "xtrain = xtrain.reshape( (len(xtrain), 28*28) )\n",
    "xtest = xtest.reshape( (len(xtest), 28*28) )\n",
    "print( xtrain.shape, xtest.shape )"
   ]
  },
  {
   "cell_type": "markdown",
   "metadata": {
    "id": "SEKdlEF-1UI1"
   },
   "source": [
    "# VAE"
   ]
  },
  {
   "cell_type": "code",
   "execution_count": 3,
   "metadata": {
    "id": "Nr2TM50s1lDY"
   },
   "outputs": [],
   "source": [
    "# 네트워크 파라메터\n",
    "input_size = 784\n",
    "n_hidden = 256\n",
    "latent_size = 2"
   ]
  },
  {
   "cell_type": "markdown",
   "metadata": {
    "id": "2afOQK7j1ZNG"
   },
   "source": [
    "Encoder"
   ]
  },
  {
   "cell_type": "code",
   "execution_count": 4,
   "metadata": {
    "id": "D6BNqqWd2hfF"
   },
   "outputs": [],
   "source": [
    "# 샘플링 함수: N(m,v)에서 난수를 추출\n",
    "def sampling(args):\n",
    "    m, v = args  # v는 log(var)\n",
    "    epsilon = tf.random.normal( shape=tf.shape(m) ) # 정규 분포에서 난수 추출\n",
    "    return m + tf.math.exp(0.5 * v) * epsilon   # N(0,1) -> N(m,v)"
   ]
  },
  {
   "cell_type": "code",
   "execution_count": 5,
   "metadata": {
    "id": "K578mWR21Twb"
   },
   "outputs": [],
   "source": [
    "input = tf.keras.Input(shape=(input_size,), name='input')\n",
    "hidden = tf.keras.layers.Dense(\n",
    "    n_hidden, activation='relu', name='hidden')(input)\n",
    "z_mean = tf.keras.layers.Dense(latent_size, name='z_mean')(hidden)\n",
    "z_var = tf.keras.layers.Dense(latent_size, name='z_var')(hidden)\n",
    "z = tf.keras.layers.Lambda(sampling, name='z_sampling')([z_mean, z_var])\n",
    "encoder = tf.keras.Model( input, [z_mean, z_var, z] )"
   ]
  },
  {
   "cell_type": "code",
   "execution_count": 6,
   "metadata": {
    "colab": {
     "base_uri": "https://localhost:8080/"
    },
    "id": "zNyzPEcc1O2V",
    "outputId": "7707607f-5344-4e75-a122-7d1c1b77ed2d"
   },
   "outputs": [
    {
     "name": "stdout",
     "output_type": "stream",
     "text": [
      "Model: \"model\"\n",
      "__________________________________________________________________________________________________\n",
      " Layer (type)                Output Shape                 Param #   Connected to                  \n",
      "==================================================================================================\n",
      " input (InputLayer)          [(None, 784)]                0         []                            \n",
      "                                                                                                  \n",
      " hidden (Dense)              (None, 256)                  200960    ['input[0][0]']               \n",
      "                                                                                                  \n",
      " z_mean (Dense)              (None, 2)                    514       ['hidden[0][0]']              \n",
      "                                                                                                  \n",
      " z_var (Dense)               (None, 2)                    514       ['hidden[0][0]']              \n",
      "                                                                                                  \n",
      " z_sampling (Lambda)         (None, 2)                    0         ['z_mean[0][0]',              \n",
      "                                                                     'z_var[0][0]']               \n",
      "                                                                                                  \n",
      "==================================================================================================\n",
      "Total params: 201988 (789.02 KB)\n",
      "Trainable params: 201988 (789.02 KB)\n",
      "Non-trainable params: 0 (0.00 Byte)\n",
      "__________________________________________________________________________________________________\n"
     ]
    }
   ],
   "source": [
    "encoder.summary()"
   ]
  },
  {
   "cell_type": "code",
   "execution_count": 7,
   "metadata": {
    "colab": {
     "base_uri": "https://localhost:8080/",
     "height": 422
    },
    "id": "i53mSHyv224i",
    "outputId": "b413c348-5d8d-43e3-8dff-d9f197f9a17b"
   },
   "outputs": [
    {
     "name": "stdout",
     "output_type": "stream",
     "text": [
      "You must install pydot (`pip install pydot`) and install graphviz (see instructions at https://graphviz.gitlab.io/download/) for plot_model to work.\n"
     ]
    }
   ],
   "source": [
    "tf.keras.utils.plot_model(encoder, show_shapes=True)"
   ]
  },
  {
   "cell_type": "markdown",
   "metadata": {
    "id": "WRgEYagi3TOE"
   },
   "source": [
    "Decoder"
   ]
  },
  {
   "cell_type": "code",
   "execution_count": 8,
   "metadata": {
    "id": "clGvZUvc2-YM"
   },
   "outputs": [],
   "source": [
    "# 디코더 입력은 latent 변수로부터\n",
    "input = tf.keras.Input(shape=(latent_size,), name='input')\n",
    "hidden = tf.keras.layers.Dense(\n",
    "    n_hidden, activation='relu', name='hidden')(input)\n",
    "# 출력은 인코더 입력과 같도록 학습하기 때문에 input_size가 사용\n",
    "output = tf.keras.layers.Dense(\n",
    "    input_size, activation='sigmoid',name='output')(hidden)\n",
    "decoder = tf.keras.Model( input, output, name='decoder' )"
   ]
  },
  {
   "cell_type": "code",
   "execution_count": 9,
   "metadata": {
    "colab": {
     "base_uri": "https://localhost:8080/"
    },
    "id": "NRC45Ga03AwC",
    "outputId": "7f266932-cd3e-4c43-9bc8-8fe00b950aef"
   },
   "outputs": [
    {
     "name": "stdout",
     "output_type": "stream",
     "text": [
      "Model: \"decoder\"\n",
      "_________________________________________________________________\n",
      " Layer (type)                Output Shape              Param #   \n",
      "=================================================================\n",
      " input (InputLayer)          [(None, 2)]               0         \n",
      "                                                                 \n",
      " hidden (Dense)              (None, 256)               768       \n",
      "                                                                 \n",
      " output (Dense)              (None, 784)               201488    \n",
      "                                                                 \n",
      "=================================================================\n",
      "Total params: 202256 (790.06 KB)\n",
      "Trainable params: 202256 (790.06 KB)\n",
      "Non-trainable params: 0 (0.00 Byte)\n",
      "_________________________________________________________________\n"
     ]
    }
   ],
   "source": [
    "decoder.summary()"
   ]
  },
  {
   "cell_type": "code",
   "execution_count": 10,
   "metadata": {
    "colab": {
     "base_uri": "https://localhost:8080/",
     "height": 312
    },
    "id": "CDKzUCBh4CFP",
    "outputId": "b99f33b8-a639-4bd8-b962-396e4d1e3ece"
   },
   "outputs": [
    {
     "name": "stdout",
     "output_type": "stream",
     "text": [
      "You must install pydot (`pip install pydot`) and install graphviz (see instructions at https://graphviz.gitlab.io/download/) for plot_model to work.\n"
     ]
    }
   ],
   "source": [
    "tf.keras.utils.plot_model(decoder, show_shapes=True)"
   ]
  },
  {
   "cell_type": "markdown",
   "metadata": {
    "id": "HBTpNwum4IA0"
   },
   "source": [
    "VAE"
   ]
  },
  {
   "cell_type": "code",
   "execution_count": 11,
   "metadata": {
    "id": "0OMm5Wue4GEb"
   },
   "outputs": [],
   "source": [
    "input = tf.keras.Input(shape=(input_size,), name='input')\n",
    "z = encoder(input)[2]  # [0]: z_mean, [1]: z_var, [2]: z\n",
    "output = decoder(z)\n",
    "model = tf.keras.Model(input, output, name='vae')"
   ]
  },
  {
   "cell_type": "code",
   "execution_count": 12,
   "metadata": {
    "colab": {
     "base_uri": "https://localhost:8080/"
    },
    "id": "OF8_JYkP4nNR",
    "outputId": "f670aecf-d190-4817-ac28-2f2c4dceb997"
   },
   "outputs": [
    {
     "name": "stdout",
     "output_type": "stream",
     "text": [
      "Model: \"vae\"\n",
      "_________________________________________________________________\n",
      " Layer (type)                Output Shape              Param #   \n",
      "=================================================================\n",
      " input (InputLayer)          [(None, 784)]             0         \n",
      "                                                                 \n",
      " model (Functional)          [(None, 2),               201988    \n",
      "                              (None, 2),                         \n",
      "                              (None, 2)]                         \n",
      "                                                                 \n",
      " decoder (Functional)        (None, 784)               202256    \n",
      "                                                                 \n",
      "=================================================================\n",
      "Total params: 404244 (1.54 MB)\n",
      "Trainable params: 404244 (1.54 MB)\n",
      "Non-trainable params: 0 (0.00 Byte)\n",
      "_________________________________________________________________\n"
     ]
    }
   ],
   "source": [
    "model.summary()"
   ]
  },
  {
   "cell_type": "code",
   "execution_count": 13,
   "metadata": {
    "colab": {
     "base_uri": "https://localhost:8080/",
     "height": 312
    },
    "id": "WqIHF4Kr4ngx",
    "outputId": "a39a52db-4e4c-48a2-d1b0-f4c40c71f762"
   },
   "outputs": [
    {
     "name": "stdout",
     "output_type": "stream",
     "text": [
      "You must install pydot (`pip install pydot`) and install graphviz (see instructions at https://graphviz.gitlab.io/download/) for plot_model to work.\n"
     ]
    }
   ],
   "source": [
    "tf.keras.utils.plot_model(model, show_shapes=True)"
   ]
  },
  {
   "cell_type": "markdown",
   "metadata": {
    "id": "YrqRjut-41uj"
   },
   "source": [
    "훈련"
   ]
  },
  {
   "cell_type": "code",
   "execution_count": 14,
   "metadata": {
    "id": "APwcbhcA66Gv"
   },
   "outputs": [],
   "source": [
    "# 훈련 파라메터\n",
    "r_loss_factor = 1000"
   ]
  },
  {
   "cell_type": "code",
   "execution_count": 15,
   "metadata": {
    "id": "qhD38EaI4qKj"
   },
   "outputs": [],
   "source": [
    "# 손실함수 정의\n",
    "def vae_loss(x, recon_x):\n",
    "  # 재구성을 위한 복원 손실\n",
    "  m, v, z = encoder(x)\n",
    "  recon_x = decoder(z)\n",
    "  r_loss = tf.keras.losses.mse(x,recon_x)\n",
    "  # 원하는 분포로 맞추기 위한 KL Divergence 손실\n",
    "  # m = 0, v = log(var) = 0이 되면 최소\n",
    "  kl_loss = 0.5*tf.reduce_sum(tf.square(m) + tf.exp(v) - v - 1, axis=1)\n",
    "  return tf.reduce_mean(r_loss*r_loss_factor + kl_loss)"
   ]
  },
  {
   "cell_type": "code",
   "execution_count": 16,
   "metadata": {
    "id": "fcWXw3577gRd"
   },
   "outputs": [],
   "source": [
    "model.compile(optimizer='adam',loss=vae_loss)"
   ]
  },
  {
   "cell_type": "code",
   "execution_count": 17,
   "metadata": {
    "colab": {
     "base_uri": "https://localhost:8080/"
    },
    "id": "6QXoz2DG7kY3",
    "outputId": "17b94bae-1ccc-4a8f-cae2-e118a1d27228"
   },
   "outputs": [
    {
     "name": "stdout",
     "output_type": "stream",
     "text": [
      "Epoch 1/20\n",
      "1875/1875 [==============================] - 2s 1ms/step - loss: 59.9750\n",
      "Epoch 2/20\n",
      "1875/1875 [==============================] - 2s 1ms/step - loss: 53.3308\n",
      "Epoch 3/20\n",
      "1875/1875 [==============================] - 2s 1ms/step - loss: 51.9029\n",
      "Epoch 4/20\n",
      "1875/1875 [==============================] - 2s 1ms/step - loss: 51.0147\n",
      "Epoch 5/20\n",
      "1875/1875 [==============================] - 2s 1ms/step - loss: 50.3819\n",
      "Epoch 6/20\n",
      "1875/1875 [==============================] - 2s 1ms/step - loss: 49.8612\n",
      "Epoch 7/20\n",
      "1875/1875 [==============================] - 2s 1ms/step - loss: 49.4703\n",
      "Epoch 8/20\n",
      "1875/1875 [==============================] - 2s 1ms/step - loss: 49.1552\n",
      "Epoch 9/20\n",
      "1875/1875 [==============================] - 2s 1ms/step - loss: 48.8582\n",
      "Epoch 10/20\n",
      "1875/1875 [==============================] - 2s 1ms/step - loss: 48.6004\n",
      "Epoch 11/20\n",
      "1875/1875 [==============================] - 2s 1ms/step - loss: 48.4017\n",
      "Epoch 12/20\n",
      "1875/1875 [==============================] - 2s 1ms/step - loss: 48.2062\n",
      "Epoch 13/20\n",
      "1875/1875 [==============================] - 2s 1ms/step - loss: 48.0141\n",
      "Epoch 14/20\n",
      "1875/1875 [==============================] - 2s 1ms/step - loss: 47.8550\n",
      "Epoch 15/20\n",
      "1875/1875 [==============================] - 2s 1ms/step - loss: 47.7087\n",
      "Epoch 16/20\n",
      "1875/1875 [==============================] - 2s 1ms/step - loss: 47.5755\n",
      "Epoch 17/20\n",
      "1875/1875 [==============================] - 2s 1ms/step - loss: 47.4503\n",
      "Epoch 18/20\n",
      "1875/1875 [==============================] - 2s 1ms/step - loss: 47.3162\n",
      "Epoch 19/20\n",
      "1875/1875 [==============================] - 2s 1ms/step - loss: 47.1853\n",
      "Epoch 20/20\n",
      "1875/1875 [==============================] - 2s 1ms/step - loss: 47.1114\n"
     ]
    },
    {
     "data": {
      "text/plain": [
       "<keras.src.callbacks.History at 0x1316f7890>"
      ]
     },
     "execution_count": 17,
     "metadata": {},
     "output_type": "execute_result"
    }
   ],
   "source": [
    "model.fit( xtrain, xtrain, epochs=20 )"
   ]
  },
  {
   "cell_type": "markdown",
   "metadata": {
    "id": "WGBOLWbo82BH"
   },
   "source": [
    "복원 테스트"
   ]
  },
  {
   "cell_type": "code",
   "execution_count": 18,
   "metadata": {
    "colab": {
     "base_uri": "https://localhost:8080/"
    },
    "id": "_5d1N8--A8TY",
    "outputId": "0ae47667-93df-418f-d9d3-9756255da043"
   },
   "outputs": [
    {
     "name": "stdout",
     "output_type": "stream",
     "text": [
      "313/313 [==============================] - 0s 540us/step\n",
      "mse:  0.042566054\n"
     ]
    }
   ],
   "source": [
    "r_xtest = model.predict(xtest)\n",
    "print(\"mse: \",np.array(tf.keras.losses.mse(xtest,r_xtest)).mean())"
   ]
  },
  {
   "cell_type": "code",
   "execution_count": 19,
   "metadata": {
    "colab": {
     "base_uri": "https://localhost:8080/",
     "height": 177
    },
    "id": "obLhv9Qb88lC",
    "outputId": "7b3d126e-e0c6-4493-91e4-eb07f2265730"
   },
   "outputs": [
    {
     "data": {
      "image/png": "[encoded data removed]",
      "text/plain": [
       "<Figure size 400x800 with 2 Axes>"
      ]
     },
     "metadata": {},
     "output_type": "display_data"
    }
   ],
   "source": [
    "plt.figure(figsize=(4, 8))\n",
    "ax = plt.subplot(1, 2, 1)\n",
    "plt.imshow(xtest[0].reshape(28,28), vmin=0, vmax=1, cmap=\"gray\")\n",
    "ax.get_xaxis().set_visible(False)\n",
    "ax.get_yaxis().set_visible(False)\n",
    "ax = plt.subplot(1, 2, 2)\n",
    "plt.imshow(r_xtest[0].reshape(28,28), vmin=0, vmax=1, cmap=\"gray\")\n",
    "ax.get_xaxis().set_visible(False)\n",
    "ax.get_yaxis().set_visible(False)\n",
    "plt.show()"
   ]
  },
  {
   "cell_type": "markdown",
   "metadata": {
    "id": "0BCdEwWY9neb"
   },
   "source": [
    "생성 테스트"
   ]
  },
  {
   "cell_type": "code",
   "execution_count": 20,
   "metadata": {
    "colab": {
     "base_uri": "https://localhost:8080/",
     "height": 386
    },
    "id": "OUEmnrFz9qs5",
    "outputId": "8ab39944-c913-4da6-caa6-b716468a4d19"
   },
   "outputs": [
    {
     "data": {
      "text/plain": [
       "<matplotlib.image.AxesImage at 0x1422150d0>"
      ]
     },
     "execution_count": 20,
     "metadata": {},
     "output_type": "execute_result"
    },
    {
     "data": {
      "image/png": "[encoded data removed]",
      "text/plain": [
       "<Figure size 400x400 with 1 Axes>"
      ]
     },
     "metadata": {},
     "output_type": "display_data"
    }
   ],
   "source": [
    "# N(0,1)을 따르는 2차원 잠재변수를 입력으로\n",
    "new = decoder(np.array([[0,0]]))\n",
    "plt.figure(figsize=(4, 4))\n",
    "plt.imshow(np.array(new[0]).reshape(28,28), vmin=0, vmax=1, cmap=\"gray\")"
   ]
  },
  {
   "cell_type": "code",
   "execution_count": 21,
   "metadata": {
    "colab": {
     "base_uri": "https://localhost:8080/",
     "height": 345
    },
    "id": "qO4nInKJ93NB",
    "outputId": "6c24ddeb-dc77-4b02-9bcc-6a2852e11f64"
   },
   "outputs": [
    {
     "data": {
      "image/png": "[encoded data removed]",
      "text/plain": [
       "<Figure size 400x400 with 16 Axes>"
      ]
     },
     "metadata": {},
     "output_type": "display_data"
    }
   ],
   "source": [
    "plt.figure(figsize=(4, 4))\n",
    "for i in range(16):\n",
    "  new = decoder( np.random.randn(2).reshape((1,2)) )\n",
    "  ax = plt.subplot(4, 4, i+1)\n",
    "  plt.imshow(np.array(new[0]).reshape(28,28), vmin=0, vmax=1, cmap=\"gray\")\n",
    "  ax.get_xaxis().set_visible(False)\n",
    "  ax.get_yaxis().set_visible(False)"
   ]
  },
  {
   "cell_type": "markdown",
   "metadata": {
    "id": "zV9wU2O6BQ7X"
   },
   "source": [
    "# 연습문제"
   ]
  },
  {
   "cell_type": "markdown",
   "metadata": {
    "id": "gTVnSysnBTg8"
   },
   "source": [
    "1. 위의 코드에서 네트워크/훈련 파라메터를 적절히 조절하여 더 나은 결과를 얻을 수 있는지 확인하시오.<br>\n",
    "(1) n_hidden을 512로 하였을 때 전체 VAE 모델의 파라메터 수는 몇 개인가?<br>\n",
    "(2) 이 경우 평가 데이터의 MSE는 얼마인가?<br>\n",
    "(3) 생성이 얼마나 잘 되는지를 평가할 수 있는 방안을 고안하여 간략히 서술하시오.<br>"
   ]
  },
  {
   "cell_type": "code",
   "execution_count": 22,
   "metadata": {},
   "outputs": [],
   "source": [
    "# 네트워크 파라메터\n",
    "input_size = 784\n",
    "n_hidden = 512\n",
    "latent_size = 2"
   ]
  },
  {
   "cell_type": "code",
   "execution_count": 23,
   "metadata": {
    "id": "D6BNqqWd2hfF"
   },
   "outputs": [],
   "source": [
    "# 샘플링 함수: N(m,v)에서 난수를 추출\n",
    "def sampling(args):\n",
    "    m, v = args  # v는 log(var)\n",
    "    epsilon = tf.random.normal( shape=tf.shape(m) ) # 정규 분포에서 난수 추출\n",
    "    return m + tf.math.exp(0.5 * v) * epsilon   # N(0,1) -> N(m,v)"
   ]
  },
  {
   "cell_type": "code",
   "execution_count": 24,
   "metadata": {
    "id": "K578mWR21Twb"
   },
   "outputs": [],
   "source": [
    "input = tf.keras.Input(shape=(input_size,), name='input')\n",
    "hidden = tf.keras.layers.Dense(\n",
    "    n_hidden, activation='relu', name='hidden')(input)\n",
    "z_mean = tf.keras.layers.Dense(latent_size, name='z_mean')(hidden)\n",
    "z_var = tf.keras.layers.Dense(latent_size, name='z_var')(hidden)\n",
    "z = tf.keras.layers.Lambda(sampling, name='z_sampling')([z_mean, z_var])\n",
    "encoder = tf.keras.Model( input, [z_mean, z_var, z] )"
   ]
  },
  {
   "cell_type": "code",
   "execution_count": 25,
   "metadata": {
    "colab": {
     "base_uri": "https://localhost:8080/"
    },
    "id": "zNyzPEcc1O2V",
    "outputId": "7707607f-5344-4e75-a122-7d1c1b77ed2d"
   },
   "outputs": [
    {
     "name": "stdout",
     "output_type": "stream",
     "text": [
      "Model: \"model_1\"\n",
      "__________________________________________________________________________________________________\n",
      " Layer (type)                Output Shape                 Param #   Connected to                  \n",
      "==================================================================================================\n",
      " input (InputLayer)          [(None, 784)]                0         []                            \n",
      "                                                                                                  \n",
      " hidden (Dense)              (None, 512)                  401920    ['input[0][0]']               \n",
      "                                                                                                  \n",
      " z_mean (Dense)              (None, 2)                    1026      ['hidden[0][0]']              \n",
      "                                                                                                  \n",
      " z_var (Dense)               (None, 2)                    1026      ['hidden[0][0]']              \n",
      "                                                                                                  \n",
      " z_sampling (Lambda)         (None, 2)                    0         ['z_mean[0][0]',              \n",
      "                                                                     'z_var[0][0]']               \n",
      "                                                                                                  \n",
      "==================================================================================================\n",
      "Total params: 403972 (1.54 MB)\n",
      "Trainable params: 403972 (1.54 MB)\n",
      "Non-trainable params: 0 (0.00 Byte)\n",
      "__________________________________________________________________________________________________\n"
     ]
    }
   ],
   "source": [
    "encoder.summary()"
   ]
  },
  {
   "cell_type": "code",
   "execution_count": 26,
   "metadata": {
    "colab": {
     "base_uri": "https://localhost:8080/",
     "height": 422
    },
    "id": "i53mSHyv224i",
    "outputId": "b413c348-5d8d-43e3-8dff-d9f197f9a17b"
   },
   "outputs": [
    {
     "name": "stdout",
     "output_type": "stream",
     "text": [
      "You must install pydot (`pip install pydot`) and install graphviz (see instructions at https://graphviz.gitlab.io/download/) for plot_model to work.\n"
     ]
    }
   ],
   "source": [
    "tf.keras.utils.plot_model(encoder, show_shapes=True)"
   ]
  },
  {
   "cell_type": "code",
   "execution_count": 27,
   "metadata": {
    "id": "clGvZUvc2-YM"
   },
   "outputs": [],
   "source": [
    "# 디코더 입력은 latent 변수로부터\n",
    "input = tf.keras.Input(shape=(latent_size,), name='input')\n",
    "hidden = tf.keras.layers.Dense(\n",
    "    n_hidden, activation='relu', name='hidden')(input)\n",
    "# 출력은 인코더 입력과 같도록 학습하기 때문에 input_size가 사용\n",
    "output = tf.keras.layers.Dense(\n",
    "    input_size, activation='sigmoid',name='output')(hidden)\n",
    "decoder = tf.keras.Model( input, output, name='decoder' )"
   ]
  },
  {
   "cell_type": "code",
   "execution_count": 28,
   "metadata": {
    "colab": {
     "base_uri": "https://localhost:8080/"
    },
    "id": "NRC45Ga03AwC",
    "outputId": "7f266932-cd3e-4c43-9bc8-8fe00b950aef"
   },
   "outputs": [
    {
     "name": "stdout",
     "output_type": "stream",
     "text": [
      "Model: \"decoder\"\n",
      "_________________________________________________________________\n",
      " Layer (type)                Output Shape              Param #   \n",
      "=================================================================\n",
      " input (InputLayer)          [(None, 2)]               0         \n",
      "                                                                 \n",
      " hidden (Dense)              (None, 512)               1536      \n",
      "                                                                 \n",
      " output (Dense)              (None, 784)               402192    \n",
      "                                                                 \n",
      "=================================================================\n",
      "Total params: 403728 (1.54 MB)\n",
      "Trainable params: 403728 (1.54 MB)\n",
      "Non-trainable params: 0 (0.00 Byte)\n",
      "_________________________________________________________________\n"
     ]
    }
   ],
   "source": [
    "decoder.summary()"
   ]
  },
  {
   "cell_type": "code",
   "execution_count": 29,
   "metadata": {
    "colab": {
     "base_uri": "https://localhost:8080/",
     "height": 312
    },
    "id": "CDKzUCBh4CFP",
    "outputId": "b99f33b8-a639-4bd8-b962-396e4d1e3ece"
   },
   "outputs": [
    {
     "name": "stdout",
     "output_type": "stream",
     "text": [
      "You must install pydot (`pip install pydot`) and install graphviz (see instructions at https://graphviz.gitlab.io/download/) for plot_model to work.\n"
     ]
    }
   ],
   "source": [
    "tf.keras.utils.plot_model(decoder, show_shapes=True)"
   ]
  },
  {
   "cell_type": "markdown",
   "metadata": {
    "id": "HBTpNwum4IA0"
   },
   "source": [
    "VAE"
   ]
  },
  {
   "cell_type": "code",
   "execution_count": 30,
   "metadata": {
    "id": "0OMm5Wue4GEb"
   },
   "outputs": [],
   "source": [
    "input = tf.keras.Input(shape=(input_size,), name='input')\n",
    "z = encoder(input)[2]  # [0]: z_mean, [1]: z_var, [2]: z\n",
    "output = decoder(z)\n",
    "model = tf.keras.Model(input, output, name='vae')"
   ]
  },
  {
   "cell_type": "code",
   "execution_count": 32,
   "metadata": {
    "colab": {
     "base_uri": "https://localhost:8080/"
    },
    "id": "OF8_JYkP4nNR",
    "outputId": "f670aecf-d190-4817-ac28-2f2c4dceb997"
   },
   "outputs": [
    {
     "name": "stdout",
     "output_type": "stream",
     "text": [
      "Model: \"vae\"\n",
      "_________________________________________________________________\n",
      " Layer (type)                Output Shape              Param #   \n",
      "=================================================================\n",
      " input (InputLayer)          [(None, 784)]             0         \n",
      "                                                                 \n",
      " model_1 (Functional)        [(None, 2),               403972    \n",
      "                              (None, 2),                         \n",
      "                              (None, 2)]                         \n",
      "                                                                 \n",
      " decoder (Functional)        (None, 784)               403728    \n",
      "                                                                 \n",
      "=================================================================\n",
      "Total params: 807700 (3.08 MB)\n",
      "Trainable params: 807700 (3.08 MB)\n",
      "Non-trainable params: 0 (0.00 Byte)\n",
      "_________________________________________________________________\n"
     ]
    }
   ],
   "source": [
    "# (1) 807700\n",
    "\n",
    "model.summary()"
   ]
  },
  {
   "cell_type": "code",
   "execution_count": 33,
   "metadata": {
    "colab": {
     "base_uri": "https://localhost:8080/",
     "height": 312
    },
    "id": "WqIHF4Kr4ngx",
    "outputId": "a39a52db-4e4c-48a2-d1b0-f4c40c71f762"
   },
   "outputs": [
    {
     "name": "stdout",
     "output_type": "stream",
     "text": [
      "You must install pydot (`pip install pydot`) and install graphviz (see instructions at https://graphviz.gitlab.io/download/) for plot_model to work.\n"
     ]
    }
   ],
   "source": [
    "tf.keras.utils.plot_model(model, show_shapes=True)"
   ]
  },
  {
   "cell_type": "markdown",
   "metadata": {
    "id": "YrqRjut-41uj"
   },
   "source": [
    "훈련"
   ]
  },
  {
   "cell_type": "code",
   "execution_count": 34,
   "metadata": {
    "id": "APwcbhcA66Gv"
   },
   "outputs": [],
   "source": [
    "# 훈련 파라메터\n",
    "r_loss_factor = 1000"
   ]
  },
  {
   "cell_type": "code",
   "execution_count": 35,
   "metadata": {
    "id": "qhD38EaI4qKj"
   },
   "outputs": [],
   "source": [
    "# 손실함수 정의\n",
    "def vae_loss(x, recon_x):\n",
    "  # 재구성을 위한 복원 손실\n",
    "  m, v, z = encoder(x)\n",
    "  recon_x = decoder(z)\n",
    "  r_loss = tf.keras.losses.mse(x,recon_x)\n",
    "  # 원하는 분포로 맞추기 위한 KL Divergence 손실\n",
    "  # m = 0, v = log(var) = 0이 되면 최소\n",
    "  kl_loss = 0.5*tf.reduce_sum(tf.square(m) + tf.exp(v) - v - 1, axis=1)\n",
    "  return tf.reduce_mean(r_loss*r_loss_factor + kl_loss)"
   ]
  },
  {
   "cell_type": "code",
   "execution_count": 36,
   "metadata": {
    "id": "fcWXw3577gRd"
   },
   "outputs": [],
   "source": [
    "model.compile(optimizer='adam',loss=vae_loss)"
   ]
  },
  {
   "cell_type": "code",
   "execution_count": 37,
   "metadata": {
    "colab": {
     "base_uri": "https://localhost:8080/"
    },
    "id": "6QXoz2DG7kY3",
    "outputId": "17b94bae-1ccc-4a8f-cae2-e118a1d27228"
   },
   "outputs": [
    {
     "name": "stdout",
     "output_type": "stream",
     "text": [
      "Epoch 1/20\n",
      "1875/1875 [==============================] - 3s 2ms/step - loss: 57.4883\n",
      "Epoch 2/20\n",
      "1875/1875 [==============================] - 3s 2ms/step - loss: 52.2375\n",
      "Epoch 3/20\n",
      "1875/1875 [==============================] - 3s 2ms/step - loss: 50.9766\n",
      "Epoch 4/20\n",
      "1875/1875 [==============================] - 3s 2ms/step - loss: 50.1904\n",
      "Epoch 5/20\n",
      "1875/1875 [==============================] - 3s 2ms/step - loss: 49.5533\n",
      "Epoch 6/20\n",
      "1875/1875 [==============================] - 3s 2ms/step - loss: 49.0489\n",
      "Epoch 7/20\n",
      "1875/1875 [==============================] - 3s 2ms/step - loss: 48.5945\n",
      "Epoch 8/20\n",
      "1875/1875 [==============================] - 3s 2ms/step - loss: 48.2295\n",
      "Epoch 9/20\n",
      "1875/1875 [==============================] - 3s 2ms/step - loss: 47.9047\n",
      "Epoch 10/20\n",
      "1875/1875 [==============================] - 3s 2ms/step - loss: 47.6089\n",
      "Epoch 11/20\n",
      "1875/1875 [==============================] - 3s 2ms/step - loss: 47.3475\n",
      "Epoch 12/20\n",
      "1875/1875 [==============================] - 3s 2ms/step - loss: 47.1128\n",
      "Epoch 13/20\n",
      "1875/1875 [==============================] - 3s 2ms/step - loss: 46.8994\n",
      "Epoch 14/20\n",
      "1875/1875 [==============================] - 3s 2ms/step - loss: 46.7233\n",
      "Epoch 15/20\n",
      "1875/1875 [==============================] - 3s 2ms/step - loss: 46.5639\n",
      "Epoch 16/20\n",
      "1875/1875 [==============================] - 3s 2ms/step - loss: 46.4218\n",
      "Epoch 17/20\n",
      "1875/1875 [==============================] - 3s 2ms/step - loss: 46.2677\n",
      "Epoch 18/20\n",
      "1875/1875 [==============================] - 3s 2ms/step - loss: 46.1477\n",
      "Epoch 19/20\n",
      "1875/1875 [==============================] - 3s 2ms/step - loss: 46.0370\n",
      "Epoch 20/20\n",
      "1875/1875 [==============================] - 3s 2ms/step - loss: 45.9350\n"
     ]
    },
    {
     "data": {
      "text/plain": [
       "<keras.src.callbacks.History at 0x142277fd0>"
      ]
     },
     "execution_count": 37,
     "metadata": {},
     "output_type": "execute_result"
    }
   ],
   "source": [
    "model.fit( xtrain, xtrain, epochs=20 )"
   ]
  },
  {
   "cell_type": "markdown",
   "metadata": {
    "id": "WGBOLWbo82BH"
   },
   "source": [
    "복원 테스트"
   ]
  },
  {
   "cell_type": "code",
   "execution_count": 38,
   "metadata": {
    "colab": {
     "base_uri": "https://localhost:8080/"
    },
    "id": "_5d1N8--A8TY",
    "outputId": "0ae47667-93df-418f-d9d3-9756255da043"
   },
   "outputs": [
    {
     "name": "stdout",
     "output_type": "stream",
     "text": [
      "313/313 [==============================] - 0s 672us/step\n",
      "mse:  0.04142247\n"
     ]
    }
   ],
   "source": [
    "# (2) 0.04142247\n",
    "r_xtest = model.predict(xtest)\n",
    "print(\"mse: \",np.array(tf.keras.losses.mse(xtest,r_xtest)).mean())"
   ]
  },
  {
   "cell_type": "code",
   "execution_count": 39,
   "metadata": {
    "colab": {
     "base_uri": "https://localhost:8080/",
     "height": 177
    },
    "id": "obLhv9Qb88lC",
    "outputId": "7b3d126e-e0c6-4493-91e4-eb07f2265730"
   },
   "outputs": [
    {
     "data": {
      "image/png": "[encoded data removed]",
      "text/plain": [
       "<Figure size 400x800 with 2 Axes>"
      ]
     },
     "metadata": {},
     "output_type": "display_data"
    }
   ],
   "source": [
    "plt.figure(figsize=(4, 8))\n",
    "ax = plt.subplot(1, 2, 1)\n",
    "plt.imshow(xtest[0].reshape(28,28), vmin=0, vmax=1, cmap=\"gray\")\n",
    "ax.get_xaxis().set_visible(False)\n",
    "ax.get_yaxis().set_visible(False)\n",
    "ax = plt.subplot(1, 2, 2)\n",
    "plt.imshow(r_xtest[0].reshape(28,28), vmin=0, vmax=1, cmap=\"gray\")\n",
    "ax.get_xaxis().set_visible(False)\n",
    "ax.get_yaxis().set_visible(False)\n",
    "plt.show()"
   ]
  },
  {
   "cell_type": "markdown",
   "metadata": {
    "id": "0BCdEwWY9neb"
   },
   "source": [
    "생성 테스트"
   ]
  },
  {
   "cell_type": "code",
   "execution_count": 40,
   "metadata": {
    "colab": {
     "base_uri": "https://localhost:8080/",
     "height": 386
    },
    "id": "OUEmnrFz9qs5",
    "outputId": "8ab39944-c913-4da6-caa6-b716468a4d19"
   },
   "outputs": [
    {
     "data": {
      "text/plain": [
       "<matplotlib.image.AxesImage at 0x1454a2e90>"
      ]
     },
     "execution_count": 40,
     "metadata": {},
     "output_type": "execute_result"
    },
    {
     "data": {
      "image/png": "[encoded data removed]",
      "text/plain": [
       "<Figure size 400x400 with 1 Axes>"
      ]
     },
     "metadata": {},
     "output_type": "display_data"
    }
   ],
   "source": [
    "# N(0,1)을 따르는 2차원 잠재변수를 입력으로\n",
    "new = decoder(np.array([[0,0]]))\n",
    "plt.figure(figsize=(4, 4))\n",
    "plt.imshow(np.array(new[0]).reshape(28,28), vmin=0, vmax=1, cmap=\"gray\")"
   ]
  },
  {
   "cell_type": "code",
   "execution_count": 41,
   "metadata": {
    "colab": {
     "base_uri": "https://localhost:8080/",
     "height": 345
    },
    "id": "qO4nInKJ93NB",
    "outputId": "6c24ddeb-dc77-4b02-9bcc-6a2852e11f64"
   },
   "outputs": [
    {
     "data": {
      "image/png": "[encoded data removed]",
      "text/plain": [
       "<Figure size 400x400 with 16 Axes>"
      ]
     },
     "metadata": {},
     "output_type": "display_data"
    }
   ],
   "source": [
    "plt.figure(figsize=(4, 4))\n",
    "for i in range(16):\n",
    "  new = decoder( np.random.randn(2).reshape((1,2)) )\n",
    "  ax = plt.subplot(4, 4, i+1)\n",
    "  plt.imshow(np.array(new[0]).reshape(28,28), vmin=0, vmax=1, cmap=\"gray\")\n",
    "  ax.get_xaxis().set_visible(False)\n",
    "  ax.get_yaxis().set_visible(False)"
   ]
  },
  {
   "cell_type": "code",
   "execution_count": null,
   "metadata": {},
   "outputs": [],
   "source": []
  },
  {
   "cell_type": "code",
   "execution_count": null,
   "metadata": {},
   "outputs": [],
   "source": []
  },
  {
   "cell_type": "code",
   "execution_count": null,
   "metadata": {},
   "outputs": [],
   "source": []
  },
  {
   "cell_type": "code",
   "execution_count": null,
   "metadata": {},
   "outputs": [],
   "source": []
  },
  {
   "cell_type": "code",
   "execution_count": null,
   "metadata": {},
   "outputs": [],
   "source": []
  },
  {
   "cell_type": "code",
   "execution_count": null,
   "metadata": {},
   "outputs": [],
   "source": []
  },
  {
   "cell_type": "code",
   "execution_count": null,
   "metadata": {},
   "outputs": [],
   "source": []
  },
  {
   "cell_type": "code",
   "execution_count": null,
   "metadata": {},
   "outputs": [],
   "source": []
  }
 ],
 "metadata": {
  "accelerator": "GPU",
  "colab": {
   "gpuType": "V100",
   "provenance": []
  },
  "kernelspec": {
   "display_name": "Python 3 (ipykernel)",
   "language": "python",
   "name": "python3"
  },
  "language_info": {
   "codemirror_mode": {
    "name": "ipython",
    "version": 3
   },
   "file_extension": ".py",
   "mimetype": "text/x-python",
   "name": "python",
   "nbconvert_exporter": "python",
   "pygments_lexer": "ipython3",
   "version": "3.11.5"
  }
 },
 "nbformat": 4,
 "nbformat_minor": 1
}
