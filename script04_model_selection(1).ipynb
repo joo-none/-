{
 "cells": [
  {
   "cell_type": "markdown",
   "metadata": {
    "id": "qJpgB0lIQKaC"
   },
   "source": [
    "<h1>모델 선택과 확장</h1>"
   ]
  },
  {
   "cell_type": "code",
   "execution_count": 1,
   "metadata": {
    "id": "NLze5D8zQbL3"
   },
   "outputs": [],
   "source": [
    "import numpy as np\n",
    "import pandas as pd\n",
    "import matplotlib.pyplot as plt"
   ]
  },
  {
   "cell_type": "markdown",
   "metadata": {
    "id": "bANJB69TQQJS"
   },
   "source": [
    "# 교차검증을 통한 파라메터 튜닝"
   ]
  },
  {
   "cell_type": "markdown",
   "metadata": {
    "id": "kcj5G6EMQVoy"
   },
   "source": [
    "당뇨 데이터 셋"
   ]
  },
  {
   "cell_type": "code",
   "execution_count": 2,
   "metadata": {
    "id": "p8GQEbEBQJFk"
   },
   "outputs": [],
   "source": [
    "from sklearn.datasets import load_diabetes\n",
    "X, y = load_diabetes(return_X_y=True,as_frame=True)\n",
    "from sklearn.model_selection import train_test_split\n",
    "xtrain, xtest, ytrain, ytest = train_test_split(X,y,test_size=0.4,random_state=20)"
   ]
  },
  {
   "cell_type": "markdown",
   "metadata": {
    "id": "Ux1JadfuQ73I"
   },
   "source": [
    "KNN 회귀 모델"
   ]
  },
  {
   "cell_type": "code",
   "execution_count": 3,
   "metadata": {
    "colab": {
     "base_uri": "https://localhost:8080/"
    },
    "id": "dCQaCch1Qw4_",
    "outputId": "714c495b-95e6-4a8d-f57f-8fa04df60053"
   },
   "outputs": [
    {
     "name": "stdout",
     "output_type": "stream",
     "text": [
      "train accuracy:  0.5965805996455307\n",
      "test accuracy:  0.3661395930387644\n"
     ]
    }
   ],
   "source": [
    "from sklearn.neighbors import KNeighborsRegressor\n",
    "f = KNeighborsRegressor(n_neighbors=5)\n",
    "f.fit(xtrain,ytrain)\n",
    "print('train accuracy: ', f.score(xtrain,ytrain))\n",
    "print('test accuracy: ', f.score(xtest,ytest))"
   ]
  },
  {
   "cell_type": "code",
   "execution_count": 4,
   "metadata": {
    "colab": {
     "base_uri": "https://localhost:8080/"
    },
    "id": "rtbKCyk4TvlX",
    "outputId": "3814c8df-8701-4eb6-db5e-3d79716f045e"
   },
   "outputs": [
    {
     "name": "stdout",
     "output_type": "stream",
     "text": [
      "[0.33481701 0.24003059 0.38131323 0.51266514 0.33257977]\n",
      "0.3602811485801669\n"
     ]
    }
   ],
   "source": [
    "from sklearn.model_selection import cross_val_score\n",
    "cv_score = cross_val_score(f,xtrain,ytrain,cv=5)\n",
    "print(cv_score)\n",
    "print(cv_score.mean())"
   ]
  },
  {
   "cell_type": "markdown",
   "metadata": {
    "id": "6kYhIGM4S9Ee"
   },
   "source": [
    "파라메터에 따른 성능 변화"
   ]
  },
  {
   "cell_type": "code",
   "execution_count": 5,
   "metadata": {
    "id": "uade_JkRRYNU"
   },
   "outputs": [],
   "source": [
    "r2_train = []; r2_cv = []; r2_test = []\n",
    "klist = np.arange(1,100)   # klist = [1,2,...,99]\n",
    "for k in klist:\n",
    "  f = KNeighborsRegressor(n_neighbors=k)\n",
    "  f.fit(xtrain,ytrain)\n",
    "  r2_train.append( f.score(xtrain,ytrain) )\n",
    "  r2_cv.append( cross_val_score(f,xtrain,ytrain,cv=5).mean() )\n",
    "  r2_test.append( f.score(xtest,ytest) )"
   ]
  },
  {
   "cell_type": "code",
   "execution_count": 6,
   "metadata": {
    "colab": {
     "base_uri": "https://localhost:8080/",
     "height": 0
    },
    "id": "UL9qSeLkUL6p",
    "outputId": "0b83c44c-840a-4339-d66e-5e9d92fa2616"
   },
   "outputs": [
    {
     "data": {
      "text/plain": [
       "<matplotlib.legend.Legend at 0x1927e349040>"
      ]
     },
     "execution_count": 6,
     "metadata": {},
     "output_type": "execute_result"
    },
    {
     "data": {
      "image/png": "[encoded data removed]",
      "text/plain": [
       "<Figure size 640x480 with 1 Axes>"
      ]
     },
     "metadata": {},
     "output_type": "display_data"
    }
   ],
   "source": [
    "plt.plot(klist,r2_train,klist,r2_cv,klist,r2_test)\n",
    "plt.legend(['Train','CV','Test'])"
   ]
  },
  {
   "cell_type": "markdown",
   "metadata": {
    "id": "VVVWz-peVxLl"
   },
   "source": [
    "좀 더 간단한 파라메터 튜닝"
   ]
  },
  {
   "cell_type": "code",
   "execution_count": 7,
   "metadata": {
    "colab": {
     "base_uri": "https://localhost:8080/",
     "height": 0
    },
    "id": "6pvro9UqVwpj",
    "outputId": "6eb0db5d-0861-4550-afd0-de77be037668"
   },
   "outputs": [
    {
     "data": {
      "text/plain": [
       "GridSearchCV(cv=5, estimator=KNeighborsRegressor(),\n",
       "             param_grid={'n_neighbors': array([ 1,  2,  3,  4,  5,  6,  7,  8,  9, 10, 11, 12, 13, 14, 15, 16, 17,\n",
       "       18, 19, 20, 21, 22, 23, 24, 25, 26, 27, 28, 29, 30, 31, 32, 33, 34,\n",
       "       35, 36, 37, 38, 39, 40, 41, 42, 43, 44, 45, 46, 47, 48, 49, 50, 51,\n",
       "       52, 53, 54, 55, 56, 57, 58, 59, 60, 61, 62, 63, 64, 65, 66, 67, 68,\n",
       "       69, 70, 71, 72, 73, 74, 75, 76, 77, 78, 79, 80, 81, 82, 83, 84, 85,\n",
       "       86, 87, 88, 89, 90, 91, 92, 93, 94, 95, 96, 97, 98, 99])})"
      ]
     },
     "execution_count": 7,
     "metadata": {},
     "output_type": "execute_result"
    }
   ],
   "source": [
    "from sklearn.model_selection import GridSearchCV\n",
    "params = {'n_neighbors': np.arange(1,100)}\n",
    "f = GridSearchCV( KNeighborsRegressor(), params, cv=5 )\n",
    "f.fit(xtrain,ytrain)"
   ]
  },
  {
   "cell_type": "code",
   "execution_count": 8,
   "metadata": {
    "colab": {
     "base_uri": "https://localhost:8080/",
     "height": 0
    },
    "id": "oDh0UKrDUUjz",
    "outputId": "2a7e62fe-b4ef-4b4e-fce6-8115bf2c90e3"
   },
   "outputs": [
    {
     "data": {
      "text/plain": [
       "KNeighborsRegressor(n_neighbors=16)"
      ]
     },
     "execution_count": 8,
     "metadata": {},
     "output_type": "execute_result"
    }
   ],
   "source": [
    "f.best_estimator_"
   ]
  },
  {
   "cell_type": "code",
   "execution_count": 9,
   "metadata": {
    "colab": {
     "base_uri": "https://localhost:8080/"
    },
    "id": "yGKRB6CYWbKf",
    "outputId": "8c818ca7-4120-4de7-fa42-b19411ec158d"
   },
   "outputs": [
    {
     "data": {
      "text/plain": [
       "{'n_neighbors': 16}"
      ]
     },
     "execution_count": 9,
     "metadata": {},
     "output_type": "execute_result"
    }
   ],
   "source": [
    "f.best_params_"
   ]
  },
  {
   "cell_type": "code",
   "execution_count": 10,
   "metadata": {
    "colab": {
     "base_uri": "https://localhost:8080/"
    },
    "id": "_b1YUrCtWu2e",
    "outputId": "9ad125f0-0801-4d77-f6bc-5a93d9efcf3f"
   },
   "outputs": [
    {
     "data": {
      "text/plain": [
       "0.4509426203809033"
      ]
     },
     "execution_count": 10,
     "metadata": {},
     "output_type": "execute_result"
    }
   ],
   "source": [
    "f.best_score_"
   ]
  },
  {
   "cell_type": "code",
   "execution_count": 11,
   "metadata": {
    "colab": {
     "base_uri": "https://localhost:8080/"
    },
    "id": "11drfufSWdq1",
    "outputId": "47e0bd86-3b1f-4cc6-f7d7-b5de1be3418b"
   },
   "outputs": [
    {
     "name": "stdout",
     "output_type": "stream",
     "text": [
      "0.5248722701783495 0.41817012296407885\n"
     ]
    }
   ],
   "source": [
    "ytest_hat = f.predict(xtest)\n",
    "print( f.score(xtrain,ytrain), f.score(xtest,ytest) )"
   ]
  },
  {
   "cell_type": "markdown",
   "metadata": {
    "id": "r5q6rC_0XRJZ"
   },
   "source": [
    "# 규제화"
   ]
  },
  {
   "cell_type": "markdown",
   "metadata": {
    "id": "s7JKVNMeX-Sv"
   },
   "source": [
    "당뇨 데이터셋"
   ]
  },
  {
   "cell_type": "code",
   "execution_count": 12,
   "metadata": {
    "id": "Ju0LhSVCWqr0"
   },
   "outputs": [],
   "source": [
    "from sklearn.datasets import load_diabetes\n",
    "X, y = load_diabetes(return_X_y=True,as_frame=True)\n",
    "from sklearn.model_selection import train_test_split\n",
    "xtrain, xtest, ytrain, ytest = train_test_split(X,y,test_size=0.7,random_state=20)"
   ]
  },
  {
   "cell_type": "markdown",
   "metadata": {
    "id": "gUYwTH8VYJYD"
   },
   "source": [
    "일반 선형 회귀 모델"
   ]
  },
  {
   "cell_type": "code",
   "execution_count": 13,
   "metadata": {
    "colab": {
     "base_uri": "https://localhost:8080/"
    },
    "id": "eH5OfdniYI-0",
    "outputId": "1c1e322a-1344-43ff-e57c-a01081c3c027"
   },
   "outputs": [
    {
     "name": "stdout",
     "output_type": "stream",
     "text": [
      "[  29.3676131  -293.38425092  527.43485367  448.88607497   77.33175909\n",
      " -310.64726078 -486.03956718   80.79871849  364.98295199  -22.92266212]\n",
      "0.5598531643356341 0.4580560313913643\n"
     ]
    }
   ],
   "source": [
    "from sklearn.linear_model import LinearRegression\n",
    "f = LinearRegression()\n",
    "f.fit(xtrain,ytrain)\n",
    "print( f.coef_ )\n",
    "print( f.score(xtrain,ytrain), f.score(xtest,ytest) )"
   ]
  },
  {
   "cell_type": "markdown",
   "metadata": {
    "id": "h9DL-mhvYzrV"
   },
   "source": [
    "Ridge Regression"
   ]
  },
  {
   "cell_type": "code",
   "execution_count": 14,
   "metadata": {
    "colab": {
     "base_uri": "https://localhost:8080/"
    },
    "id": "uFvzmBU4YzOc",
    "outputId": "4a3e3be5-23f3-4575-a53d-6b982f73ea4d"
   },
   "outputs": [
    {
     "name": "stdout",
     "output_type": "stream",
     "text": [
      "[  32.24723372   -6.82909745  186.85946586  148.72248867    3.90112491\n",
      "  -12.86005453 -100.16037739   74.62995466  146.45544525   71.4470482 ]\n",
      "0.3450744227565974 0.33517157855887636\n"
     ]
    }
   ],
   "source": [
    "from sklearn.linear_model import Ridge\n",
    "f = Ridge(alpha=1)\n",
    "f.fit(xtrain,ytrain)\n",
    "print( f.coef_ )\n",
    "print( f.score(xtrain,ytrain), f.score(xtest,ytest) )"
   ]
  },
  {
   "cell_type": "code",
   "execution_count": 15,
   "metadata": {
    "colab": {
     "base_uri": "https://localhost:8080/",
     "height": 74
    },
    "id": "xe5ICqueYG34",
    "outputId": "b9c17de1-99fb-44cb-df0f-4b6395f88cd1"
   },
   "outputs": [
    {
     "data": {
      "text/plain": [
       "Ridge(alpha=0.03162277660168379)"
      ]
     },
     "execution_count": 15,
     "metadata": {},
     "output_type": "execute_result"
    }
   ],
   "source": [
    "from sklearn.model_selection import GridSearchCV\n",
    "params = {'alpha':10**np.linspace(-5,5,21)}\n",
    "f = GridSearchCV( Ridge(), params )\n",
    "f.fit(xtrain,ytrain)\n",
    "f.best_estimator_"
   ]
  },
  {
   "cell_type": "code",
   "execution_count": 16,
   "metadata": {
    "colab": {
     "base_uri": "https://localhost:8080/"
    },
    "id": "dOZir8bWZfJ5",
    "outputId": "3e2bfd56-020e-48af-f8b1-6544fabecff6"
   },
   "outputs": [
    {
     "name": "stdout",
     "output_type": "stream",
     "text": [
      "[  29.16864059 -238.42564666  496.33797444  412.30365672 -102.59906309\n",
      " -157.11621398 -328.74511943  136.08573689  394.88781305    7.23527899]\n",
      "0.5567564202344204 0.4741146989993217\n"
     ]
    }
   ],
   "source": [
    "print( f.best_estimator_.coef_ )\n",
    "print( f.score(xtrain,ytrain), f.score(xtest,ytest) )"
   ]
  },
  {
   "cell_type": "markdown",
   "metadata": {
    "id": "84NnFpgBaB2G"
   },
   "source": [
    "Lasso Regression"
   ]
  },
  {
   "cell_type": "code",
   "execution_count": 17,
   "metadata": {
    "colab": {
     "base_uri": "https://localhost:8080/"
    },
    "id": "sNgW_DK1aBO7",
    "outputId": "b89c89d8-d4d6-4f01-e02a-bfec8bb9510b"
   },
   "outputs": [
    {
     "name": "stdout",
     "output_type": "stream",
     "text": [
      "[  0.          -0.         427.71365661 125.97200881  -0.\n",
      "  -0.          -0.           0.         188.33252975   0.        ]\n",
      "0.38823395515977177 0.3579916534698082\n"
     ]
    }
   ],
   "source": [
    "from sklearn.linear_model import Lasso\n",
    "f = Lasso(alpha=1)\n",
    "f.fit(xtrain,ytrain)\n",
    "print( f.coef_ )\n",
    "print( f.score(xtrain,ytrain), f.score(xtest,ytest) )"
   ]
  },
  {
   "cell_type": "code",
   "execution_count": 18,
   "metadata": {
    "colab": {
     "base_uri": "https://localhost:8080/",
     "height": 74
    },
    "id": "IBMmvburZ7LL",
    "outputId": "b00add52-fbda-4433-c23a-eadde863c8b0"
   },
   "outputs": [
    {
     "data": {
      "text/plain": [
       "Lasso(alpha=0.1, max_iter=10000)"
      ]
     },
     "execution_count": 18,
     "metadata": {},
     "output_type": "execute_result"
    }
   ],
   "source": [
    "from sklearn.model_selection import GridSearchCV\n",
    "params = {'alpha':10**np.linspace(-5,5,21)}\n",
    "f = GridSearchCV( Lasso(max_iter=10000), params )\n",
    "f.fit(xtrain,ytrain)\n",
    "f.best_estimator_"
   ]
  },
  {
   "cell_type": "code",
   "execution_count": 19,
   "metadata": {
    "colab": {
     "base_uri": "https://localhost:8080/"
    },
    "id": "aNTAfr9oaSRo",
    "outputId": "af708be1-67dd-4176-c178-9b77de1307a0"
   },
   "outputs": [
    {
     "name": "stdout",
     "output_type": "stream",
     "text": [
      "[   0.         -202.62863881  520.30775338  396.59511111   -0.\n",
      " -142.0240664  -414.11283805    0.          375.01671833    0.        ]\n",
      "0.5542383498251329 0.47677478351301783\n"
     ]
    }
   ],
   "source": [
    "print( f.best_estimator_.coef_ )\n",
    "print( f.score(xtrain,ytrain), f.score(xtest,ytest) )"
   ]
  },
  {
   "cell_type": "markdown",
   "metadata": {
    "id": "pcqH0xWvan2H"
   },
   "source": [
    "# 연습문제"
   ]
  },
  {
   "cell_type": "markdown",
   "metadata": {
    "id": "mSCHn3JHTTFu"
   },
   "source": [
    "1. 아래의 코드는 당뇨 데이터 셋을 분류문제로 변경한 것이다. 여기에 로지스틱 회귀 모델을 적용하여 분류 모델을 만들고자 한다. 로지스틱 회귀 모델에서 사용되는 sklearn.linear_model.LogisticRegression에는 C라는 파라메터가 있는데, 이 파라메터의 사용법을 검색을 통해 알아보시오.<br>\n",
    "C의 값을 0.001, 0.01, 0.1, 1, 10, 100, 1000 으로 변경해가면서 교차검증을 수행하였을 때, 가장 성능이 좋은 C의 값은 얼마인가? 교차검증은 GridSearchCV를 통해 수행하고 필요한 파라메터 외에는 모두 기본값을 사용한다. 교차검증에는 훈련데이터만을 사용한다. 이때의 평가 데이터에서의 성능이 얼마인가?"
   ]
  },
  {
   "cell_type": "code",
   "execution_count": null,
   "metadata": {
    "id": "MbxP08KYT9vQ"
   },
   "outputs": [],
   "source": [
    "from sklearn.datasets import load_diabetes\n",
    "X, y_numeric = load_diabetes(return_X_y=True,as_frame=True)\n",
    "y = [ 'Neg' if y_numeric[i]<140 else 'Pos' for i in range(len(y_numeric)) ]\n",
    "from sklearn.model_selection import train_test_split\n",
    "xtrain, xtest, ytrain, ytest = train_test_split(X,y,test_size=0.4,random_state=42)"
   ]
  },
  {
   "cell_type": "code",
   "execution_count": null,
   "metadata": {},
   "outputs": [],
   "source": []
  },
  {
   "cell_type": "code",
   "execution_count": null,
   "metadata": {},
   "outputs": [],
   "source": []
  },
  {
   "cell_type": "code",
   "execution_count": null,
   "metadata": {},
   "outputs": [],
   "source": []
  },
  {
   "cell_type": "code",
   "execution_count": null,
   "metadata": {},
   "outputs": [],
   "source": []
  },
  {
   "cell_type": "code",
   "execution_count": null,
   "metadata": {},
   "outputs": [],
   "source": []
  },
  {
   "cell_type": "code",
   "execution_count": null,
   "metadata": {},
   "outputs": [],
   "source": []
  },
  {
   "cell_type": "code",
   "execution_count": null,
   "metadata": {},
   "outputs": [],
   "source": []
  },
  {
   "cell_type": "code",
   "execution_count": null,
   "metadata": {},
   "outputs": [],
   "source": []
  },
  {
   "cell_type": "code",
   "execution_count": null,
   "metadata": {},
   "outputs": [],
   "source": []
  },
  {
   "cell_type": "code",
   "execution_count": null,
   "metadata": {},
   "outputs": [],
   "source": []
  }
 ],
 "metadata": {
  "colab": {
   "collapsed_sections": [
    "bANJB69TQQJS",
    "r5q6rC_0XRJZ"
   ],
   "provenance": []
  },
  "kernelspec": {
   "display_name": "Python 3 (ipykernel)",
   "language": "python",
   "name": "python3"
  },
  "language_info": {
   "codemirror_mode": {
    "name": "ipython",
    "version": 3
   },
   "file_extension": ".py",
   "mimetype": "text/x-python",
   "name": "python",
   "nbconvert_exporter": "python",
   "pygments_lexer": "ipython3",
   "version": "3.9.13"
  }
 },
 "nbformat": 4,
 "nbformat_minor": 1
}
