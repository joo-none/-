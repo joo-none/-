{
 "cells": [
  {
   "cell_type": "markdown",
   "metadata": {
    "id": "33JAF4zSYEuX"
   },
   "source": [
    "<h1>SVM과 인공신경망</h1>"
   ]
  },
  {
   "cell_type": "code",
   "execution_count": 1,
   "metadata": {
    "id": "f1sV6rM5X8s6"
   },
   "outputs": [],
   "source": [
    "# libraries\n",
    "import numpy as np\n",
    "import pandas as pd\n",
    "import matplotlib.pyplot as plt\n",
    "from sklearn.model_selection import train_test_split\n",
    "from sklearn.model_selection import cross_val_score"
   ]
  },
  {
   "cell_type": "markdown",
   "metadata": {
    "id": "VNKrfzeOYLc5"
   },
   "source": [
    "# SVM"
   ]
  },
  {
   "cell_type": "markdown",
   "metadata": {
    "id": "CA1pSPnLYW6z"
   },
   "source": [
    "이진화된 당뇨 데이터 셋"
   ]
  },
  {
   "cell_type": "code",
   "execution_count": 2,
   "metadata": {
    "id": "EYvdG6bsYWLL"
   },
   "outputs": [],
   "source": [
    "from sklearn.datasets import load_diabetes\n",
    "X, y_numeric = load_diabetes(return_X_y=True,as_frame=True)\n",
    "\n",
    "# y 정의\n",
    "# y_numeric 이 140 이상이면 Pos \n",
    "y = [ 'Neg' if y_numeric[i]<140 else 'Pos' for i in range(len(y_numeric)) ]\n",
    "xtrain, xtest, ytrain, ytest = train_test_split(X,y,test_size=0.4,random_state=42)"
   ]
  },
  {
   "cell_type": "markdown",
   "metadata": {
    "id": "ykZ2n0GBYcLU"
   },
   "source": [
    "다항 커널을 이용한 SVM\n",
    "\n"
   ]
  },
  {
   "cell_type": "code",
   "execution_count": 3,
   "metadata": {
    "colab": {
     "base_uri": "https://localhost:8080/",
     "height": 74
    },
    "id": "X4AmOmWfYbZG",
    "outputId": "4f60bea8-6228-4697-8d04-e9510e686b2b"
   },
   "outputs": [
    {
     "data": {
      "text/plain": [
       "SVC(C=5, kernel='poly')"
      ]
     },
     "execution_count": 3,
     "metadata": {},
     "output_type": "execute_result"
    }
   ],
   "source": [
    "from sklearn.svm import SVC\n",
    "# 파라미터 튜닝 전\n",
    "f = SVC(C=5, kernel='poly', degree=3)\n",
    "f.fit(xtrain,ytrain)"
   ]
  },
  {
   "cell_type": "code",
   "execution_count": 4,
   "metadata": {
    "colab": {
     "base_uri": "https://localhost:8080/"
    },
    "id": "xYYRkVpYYlpa",
    "outputId": "8fd2ac0e-7e1c-49e3-be7d-570ec2c159e4"
   },
   "outputs": [
    {
     "name": "stdout",
     "output_type": "stream",
     "text": [
      "0.8452830188679246 0.7570621468926554\n"
     ]
    }
   ],
   "source": [
    "print( f.score(xtrain,ytrain), f.score(xtest,ytest) )"
   ]
  },
  {
   "cell_type": "markdown",
   "metadata": {
    "id": "wfjuG23xZt7O"
   },
   "source": [
    "RBF를 이용한 SVM"
   ]
  },
  {
   "cell_type": "code",
   "execution_count": 8,
   "metadata": {
    "id": "tFAd8Zd0asV0"
   },
   "outputs": [],
   "source": [
    "# parameter tuning\n",
    "# 주로 c를 변환\n",
    "params = 10**np.linspace(-5,5,num=31)\n",
    "acc_train = []; acc_cv = []; acc_test = []\n",
    "\n",
    "# c를 변환\n",
    "for c in params:\n",
    "    # rbf 커널 사용\n",
    "    f = SVC(C=c,kernel='rbf',gamma='auto',random_state=0)\n",
    "    # 모델 훈련\n",
    "    f.fit(xtrain,ytrain)\n",
    "    acc_train.append( f.score(xtrain,ytrain) )\n",
    "    acc_cv.append( cross_val_score(f,xtrain,ytrain,cv=5).mean() )\n",
    "    acc_test.append( f.score(xtest,ytest) )"
   ]
  },
  {
   "cell_type": "code",
   "execution_count": 9,
   "metadata": {
    "colab": {
     "base_uri": "https://localhost:8080/",
     "height": 448
    },
    "id": "dc35xVHubSPD",
    "outputId": "3e836b1f-9890-4215-d2d0-1016e178c300"
   },
   "outputs": [
    {
     "data": {
      "text/plain": [
       "<matplotlib.legend.Legend at 0x24effea4d00>"
      ]
     },
     "execution_count": 9,
     "metadata": {},
     "output_type": "execute_result"
    },
    {
     "data": {
      "image/png": "[encoded data removed]",
      "text/plain": [
       "<Figure size 640x480 with 1 Axes>"
      ]
     },
     "metadata": {},
     "output_type": "display_data"
    }
   ],
   "source": [
    "idx = np.log10(params)\n",
    "plt.plot(idx,acc_train,idx,acc_cv,idx,acc_test)\n",
    "plt.legend(['Train','CV','Test'])"
   ]
  },
  {
   "cell_type": "code",
   "execution_count": 10,
   "metadata": {
    "colab": {
     "base_uri": "https://localhost:8080/",
     "height": 117
    },
    "id": "-_XUZ_i3YxYU",
    "outputId": "0deefdba-5c23-4ec6-c706-ef46f966ce02"
   },
   "outputs": [
    {
     "data": {
      "text/plain": [
       "GridSearchCV(estimator=SVC(gamma='auto'),\n",
       "             param_grid={'C': array([1.00000000e-01, 1.99526231e-01, 3.98107171e-01, 7.94328235e-01,\n",
       "       1.58489319e+00, 3.16227766e+00, 6.30957344e+00, 1.25892541e+01,\n",
       "       2.51188643e+01, 5.01187234e+01, 1.00000000e+02, 1.99526231e+02,\n",
       "       3.98107171e+02, 7.94328235e+02, 1.58489319e+03, 3.16227766e+03,\n",
       "       6.30957344e+03, 1.25892541e+04, 2.51188643e+04, 5.01187234e+04,\n",
       "       1.00000000e+05])})"
      ]
     },
     "execution_count": 10,
     "metadata": {},
     "output_type": "execute_result"
    }
   ],
   "source": [
    "# 그리드서치로 최적의 c파라미터 찾기\n",
    "\n",
    "from sklearn.model_selection import GridSearchCV\n",
    "params = {'C': 10**np.linspace(-1,5,21),}\n",
    "f = GridSearchCV( SVC(kernel='rbf',gamma='auto'), params )\n",
    "f.fit(xtrain,ytrain)"
   ]
  },
  {
   "cell_type": "code",
   "execution_count": 11,
   "metadata": {
    "colab": {
     "base_uri": "https://localhost:8080/"
    },
    "id": "ArXAZGQFaftd",
    "outputId": "c0fa23d0-2f6a-450d-e5db-fd5349622f77"
   },
   "outputs": [
    {
     "data": {
      "text/plain": [
       "{'C': 12.589254117941675}"
      ]
     },
     "execution_count": 11,
     "metadata": {},
     "output_type": "execute_result"
    }
   ],
   "source": [
    "# 가장 좋은 파라미터 c의 값은?\n",
    "\n",
    "f.best_params_"
   ]
  },
  {
   "cell_type": "code",
   "execution_count": 12,
   "metadata": {
    "colab": {
     "base_uri": "https://localhost:8080/"
    },
    "id": "MUoOobjiKzBE",
    "outputId": "0d8783aa-985f-4959-88fa-be802817a1c3"
   },
   "outputs": [
    {
     "name": "stdout",
     "output_type": "stream",
     "text": [
      "0.720754716981132 0.8022598870056498\n"
     ]
    }
   ],
   "source": [
    "# 그 때 모델의 성능은?\n",
    "# 파라미터 튜닝을 통해 얻은 모델이 더 향상된 점수를 보임\n",
    "\n",
    "print( f.score(xtrain,ytrain), f.score(xtest,ytest) )"
   ]
  },
  {
   "cell_type": "markdown",
   "metadata": {
    "id": "bVNoLtY2Lfap"
   },
   "source": [
    "# 인공신경망"
   ]
  },
  {
   "cell_type": "markdown",
   "metadata": {
    "id": "cFbUJx51LkiV"
   },
   "source": [
    "이진화된 당뇨 데이터 셋"
   ]
  },
  {
   "cell_type": "code",
   "execution_count": 13,
   "metadata": {
    "id": "ubUH3TzrK_w4"
   },
   "outputs": [],
   "source": [
    "# 인공신경망 (분류 모델, 이진 분류)\n",
    "\n",
    "from sklearn.datasets import load_diabetes\n",
    "X, y_numeric = load_diabetes(return_X_y=True,as_frame=True)\n",
    "y = [ 'Neg' if y_numeric[i]<140 else 'Pos' for i in range(len(y_numeric)) ]\n",
    "xtrain, xtest, ytrain, ytest = train_test_split(X,y,test_size=0.4,random_state=42)"
   ]
  },
  {
   "cell_type": "markdown",
   "metadata": {
    "id": "SI91bs_jLn8s"
   },
   "source": [
    "인공신경망 (분류 모델, 이진분류)"
   ]
  },
  {
   "cell_type": "code",
   "execution_count": 15,
   "metadata": {
    "id": "yY6DuG-LLpo7"
   },
   "outputs": [],
   "source": [
    "# MLPClassifier는 조절해줘야할 파라미터가 많음\n",
    "\n",
    "\n",
    "from sklearn.neural_network import MLPClassifier\n",
    "f = MLPClassifier(\n",
    "        hidden_layer_sizes = (2,2), # 히든 레이어 크기 (2, 2)\n",
    "        activation = 'logistic', # 활성화 함수: 로지스틱\n",
    "        solver = 'lbfgs', # for small data set, sgd/adam for large data set\n",
    "        # alpha: \n",
    "        alpha = 0.001, # L2 regularization \n",
    "        batch_size = 'auto',\n",
    "        learning_rate = 'constant', # 0.001\n",
    "        learning_rate_init = 0.001,\n",
    "        random_state = 0,\n",
    "        max_iter = 10000)"
   ]
  },
  {
   "cell_type": "code",
   "execution_count": 16,
   "metadata": {
    "colab": {
     "base_uri": "https://localhost:8080/",
     "height": 92
    },
    "id": "J8wjpU_HMGB0",
    "outputId": "cd1a934e-10af-4ffb-aed2-c9676a39ac4f"
   },
   "outputs": [
    {
     "data": {
      "text/plain": [
       "MLPClassifier(activation='logistic', alpha=0.001, hidden_layer_sizes=(2, 2),\n",
       "              max_iter=10000, random_state=0, solver='lbfgs')"
      ]
     },
     "execution_count": 16,
     "metadata": {},
     "output_type": "execute_result"
    }
   ],
   "source": [
    "f.fit(xtrain,ytrain)"
   ]
  },
  {
   "cell_type": "code",
   "execution_count": 17,
   "metadata": {
    "colab": {
     "base_uri": "https://localhost:8080/"
    },
    "id": "riaseLA5MKUB",
    "outputId": "4d3d1e3d-c353-4847-a3b1-f3654b3d184f"
   },
   "outputs": [
    {
     "name": "stdout",
     "output_type": "stream",
     "text": [
      "0.5094339622641509 0.4971751412429379\n"
     ]
    }
   ],
   "source": [
    "print( f.score(xtrain,ytrain), f.score(xtest,ytest) )\n",
    "\n",
    "# 점수가 낮음\n",
    "# 거의 훈련이 되지 않았다는 것을 의미\n",
    "# 파라미터를 수정하며 모델을 개선해나가야함"
   ]
  },
  {
   "cell_type": "code",
   "execution_count": 18,
   "metadata": {
    "colab": {
     "base_uri": "https://localhost:8080/"
    },
    "id": "kCMLPlwbMSOv",
    "outputId": "e4715b64-5740-4f50-92df-6c2bb96741fa"
   },
   "outputs": [
    {
     "data": {
      "text/plain": [
       "[array([[ 0.03984343,  0.17565562],\n",
       "        [ 0.0839064 ,  0.03665243],\n",
       "        [-0.06237327,  0.11898215],\n",
       "        [-0.05098735,  0.31977102],\n",
       "        [ 0.37856232, -0.09520096],\n",
       "        [ 0.23818025,  0.02356312],\n",
       "        [ 0.05558444,  0.347595  ],\n",
       "        [-0.35026679, -0.33719646],\n",
       "        [-0.39176645,  0.2714562 ],\n",
       "        [ 0.22708623,  0.30202552]]),\n",
       " array([[-0.05313496,  0.39157514],\n",
       "        [-0.53840243,  0.19298804]]),\n",
       " array([[0.13086647],\n",
       "        [0.09060609]])]"
      ]
     },
     "execution_count": 18,
     "metadata": {},
     "output_type": "execute_result"
    }
   ],
   "source": [
    "# 어떤 상수를 사용했나?\n",
    "# 첫 번재 array: 총 20개의 w 사용 (20개의 경우의 수)\n",
    "# 두 번째 array: (2*2) 총 4개의 경우\n",
    "# 세 번째 array: 2개\n",
    "\n",
    "\n",
    "f.coefs_"
   ]
  },
  {
   "cell_type": "code",
   "execution_count": 19,
   "metadata": {
    "colab": {
     "base_uri": "https://localhost:8080/"
    },
    "id": "eLutVZMBNkM1",
    "outputId": "0b1cdd28-9374-46b5-9861-b67b260e5d07"
   },
   "outputs": [
    {
     "data": {
      "text/plain": [
       "[array([0.38992741, 0.24352371]),\n",
       " array([-0.50195794,  0.6201843 ]),\n",
       " array([-0.06750068])]"
      ]
     },
     "execution_count": 19,
     "metadata": {},
     "output_type": "execute_result"
    }
   ],
   "source": [
    "# intercepts까지 총 31개의 파라미터\n",
    "# 20+4+2 + 2+2+1\n",
    "\n",
    "f.intercepts_"
   ]
  },
  {
   "cell_type": "code",
   "execution_count": 22,
   "metadata": {
    "colab": {
     "base_uri": "https://localhost:8080/"
    },
    "id": "GBj6QQ8WNxkY",
    "outputId": "55ffb65b-4d2b-49e1-a083-4289faba6fe7"
   },
   "outputs": [],
   "source": [
    "# 위에서 히든 레이어 2*2 는 성능이 낮았음\n",
    "\n",
    "from sklearn.neural_network import MLPClassifier\n",
    "f = MLPClassifier(\n",
    "        # 히든 레이어 크기 늘리기\n",
    "        hidden_layer_sizes = (10,5),\n",
    "        activation = 'logistic',\n",
    "        solver = 'lbfgs', # for small data set, sgd/adam for large data set\n",
    "        # regularization 높이기\n",
    "        alpha = 0.01, # L2 regularization\n",
    "        batch_size = 'auto',\n",
    "        learning_rate = 'constant',\n",
    "        learning_rate_init = 0.001,\n",
    "        random_state = 0,\n",
    "        max_iter = 10000)\n"
   ]
  },
  {
   "cell_type": "code",
   "execution_count": 25,
   "metadata": {},
   "outputs": [
    {
     "name": "stderr",
     "output_type": "stream",
     "text": [
      "C:\\Users\\User\\anaconda3\\lib\\site-packages\\sklearn\\neural_network\\_multilayer_perceptron.py:549: ConvergenceWarning: lbfgs failed to converge (status=1):\n",
      "STOP: TOTAL NO. of ITERATIONS REACHED LIMIT.\n",
      "\n",
      "Increase the number of iterations (max_iter) or scale the data as shown in:\n",
      "    https://scikit-learn.org/stable/modules/preprocessing.html\n",
      "  self.n_iter_ = _check_optimize_result(\"lbfgs\", opt_res, self.max_iter)\n"
     ]
    },
    {
     "data": {
      "text/plain": [
       "MLPClassifier(activation='logistic', alpha=0.01, hidden_layer_sizes=(10, 5),\n",
       "              max_iter=10000, random_state=0, solver='lbfgs')"
      ]
     },
     "execution_count": 25,
     "metadata": {},
     "output_type": "execute_result"
    }
   ],
   "source": [
    "# 모델 재훈련\n",
    "f.fit(xtrain,ytrain)"
   ]
  },
  {
   "cell_type": "code",
   "execution_count": 26,
   "metadata": {},
   "outputs": [
    {
     "name": "stdout",
     "output_type": "stream",
     "text": [
      "0.9924528301886792 0.6045197740112994\n"
     ]
    }
   ],
   "source": [
    "# train set에서는 거의 맞춤 (오버피팅)\n",
    "# test set에서는 향상 되었지만 아직 부족\n",
    "\n",
    "print( f.score(xtrain,ytrain), f.score(xtest,ytest) )"
   ]
  },
  {
   "cell_type": "markdown",
   "metadata": {
    "id": "q6cQxMuLOkB7"
   },
   "source": [
    "인공신경망 (다중 분류)"
   ]
  },
  {
   "cell_type": "code",
   "execution_count": 21,
   "metadata": {
    "id": "nnaqRa7CN8nJ"
   },
   "outputs": [],
   "source": [
    "# 데이터를 바꿔서 \n",
    "# 아까는 y_numerinc을 이진분류했다면, 이번엔 다중분류\n",
    "\n",
    "from sklearn.datasets import load_diabetes\n",
    "X, y_numeric = load_diabetes(return_X_y=True,as_frame=True)\n",
    "\n",
    "# y_numeric을 다중분류\n",
    "y = pd.cut(y_numeric,bins=3,labels=[1,2,3])\n",
    "xtrain, xtest, ytrain, ytest = train_test_split(X,y,test_size=0.4,random_state=42)"
   ]
  },
  {
   "cell_type": "code",
   "execution_count": 27,
   "metadata": {
    "colab": {
     "base_uri": "https://localhost:8080/"
    },
    "id": "V-0H-UmtOqqR",
    "outputId": "fe1fc57a-2f46-4cb7-8a54-e090863809ca"
   },
   "outputs": [
    {
     "name": "stdout",
     "output_type": "stream",
     "text": [
      "0.6867924528301886 0.6271186440677966\n"
     ]
    }
   ],
   "source": [
    "# 히든 레이어 2*2\n",
    "\n",
    "from sklearn.neural_network import MLPClassifier\n",
    "f = MLPClassifier(\n",
    "        hidden_layer_sizes = (2,2),\n",
    "        activation = 'logistic',\n",
    "        solver = 'lbfgs', # for small data set, sgd/adam for large data set\n",
    "        alpha = 0.001, # L2 regularization\n",
    "        batch_size = 'auto',\n",
    "        learning_rate = 'constant',\n",
    "        learning_rate_init = 0.001,\n",
    "        random_state = 0,\n",
    "        max_iter = 10000)\n",
    "f.fit(xtrain,ytrain)\n",
    "print( f.score(xtrain,ytrain), f.score(xtest,ytest) )"
   ]
  },
  {
   "cell_type": "code",
   "execution_count": 28,
   "metadata": {
    "colab": {
     "base_uri": "https://localhost:8080/"
    },
    "id": "jqsPlw8QOxxo",
    "outputId": "edb1193f-ade5-477a-ee54-24f9121636a3"
   },
   "outputs": [
    {
     "data": {
      "text/plain": [
       "[array([[-14.06890682, -14.91141599],\n",
       "        [  0.89095701, -11.17126073],\n",
       "        [ -0.59371161,  11.93242372],\n",
       "        [ -3.67351494,  15.65394075],\n",
       "        [ 10.47082531,  -9.03970694],\n",
       "        [-11.00439458,  -5.36270066],\n",
       "        [ 15.34473456,   7.37385618],\n",
       "        [ -0.53837993,  10.11612359],\n",
       "        [ 14.13918352,  23.98356241],\n",
       "        [-24.14265757, -23.31589754]]),\n",
       " array([[ 38.45817474,  11.440564  ],\n",
       "        [-11.21269814, -32.17508511]]),\n",
       " array([[  7.69063831,   7.17680815, -14.93540445],\n",
       "        [  8.5689248 ,  -0.4534377 ,  -8.04755552]])]"
      ]
     },
     "execution_count": 28,
     "metadata": {},
     "output_type": "execute_result"
    }
   ],
   "source": [
    "# array 1: 10개\n",
    "# array 2: 히든 레이어 2*2 총 4\n",
    "# output layer: 2*3 총 6개 파라미터 존재\n",
    "\n",
    "f.coefs_"
   ]
  },
  {
   "cell_type": "markdown",
   "metadata": {
    "id": "V6ULJ12RQuTM"
   },
   "source": [
    "# 연습 문제"
   ]
  },
  {
   "cell_type": "markdown",
   "metadata": {
    "id": "LZPqWjpxQ29w"
   },
   "source": [
    "아래와 같이 MNIST 데이터 셋을 읽고 다음의 질문에 답하시오. MNIST 데이터 셋은 아래와 같이 읽도록 한다.\n",
    "1. MNIST 데이터 셋의 샘플의 수는 몇 개인가? 총 변수의 수는 몇 개인가? 클래스의 수는 몇 개인가?\n",
    "2. MNIST 데이터의 훈련 데이터를 이용하여 SVM 모델을 훈련하고, 평가 데이터에서 성능을 측정하시오.\n",
    "3. MNIST 데이터의 훈련 데이터를 이용하여 인공신경망 모델을 훈련하고, 평가 데이터에서 성능을 측정하시오."
   ]
  },
  {
   "cell_type": "code",
   "execution_count": 43,
   "metadata": {
    "id": "EEiDgABfPA5D"
   },
   "outputs": [],
   "source": [
    "from sklearn.datasets import load_digits\n",
    "X, y = load_digits(return_X_y=True)\n",
    "xtrain, xtest, ytrain, ytest = train_test_split(X,y,test_size=0.33,random_state=1)"
   ]
  },
  {
   "cell_type": "code",
   "execution_count": 44,
   "metadata": {},
   "outputs": [
    {
     "data": {
      "text/plain": [
       "((1797, 64), (1797,))"
      ]
     },
     "execution_count": 44,
     "metadata": {},
     "output_type": "execute_result"
    }
   ],
   "source": [
    "X.shape, y.shape"
   ]
  },
  {
   "cell_type": "code",
   "execution_count": 45,
   "metadata": {},
   "outputs": [
    {
     "data": {
      "text/plain": [
       "((1203, 64), (1203,))"
      ]
     },
     "execution_count": 45,
     "metadata": {},
     "output_type": "execute_result"
    }
   ],
   "source": [
    "xtrain.shape, ytrain.shape"
   ]
  },
  {
   "cell_type": "code",
   "execution_count": null,
   "metadata": {},
   "outputs": [],
   "source": [
    "shape"
   ]
  },
  {
   "cell_type": "code",
   "execution_count": 48,
   "metadata": {},
   "outputs": [
    {
     "data": {
      "text/plain": [
       "array([ True, False, False, ..., False, False, False])"
      ]
     },
     "execution_count": 48,
     "metadata": {},
     "output_type": "execute_result"
    }
   ],
   "source": [
    "y == 0"
   ]
  },
  {
   "cell_type": "code",
   "execution_count": 51,
   "metadata": {},
   "outputs": [
    {
     "data": {
      "text/plain": [
       "(178,)"
      ]
     },
     "execution_count": 51,
     "metadata": {},
     "output_type": "execute_result"
    }
   ],
   "source": [
    "y[y==0].shape"
   ]
  },
  {
   "cell_type": "code",
   "execution_count": 47,
   "metadata": {},
   "outputs": [
    {
     "data": {
      "text/plain": [
       "178"
      ]
     },
     "execution_count": 47,
     "metadata": {},
     "output_type": "execute_result"
    }
   ],
   "source": [
    "sum(y == 0)"
   ]
  },
  {
   "cell_type": "code",
   "execution_count": null,
   "metadata": {},
   "outputs": [],
   "source": [
    "X == 0"
   ]
  },
  {
   "cell_type": "code",
   "execution_count": 37,
   "metadata": {},
   "outputs": [
    {
     "name": "stdout",
     "output_type": "stream",
     "text": [
      "Downloading data from https://storage.googleapis.com/tensorflow/tf-keras-datasets/mnist.npz\n",
      "11490434/11490434 [==============================] - 3s 0us/step\n"
     ]
    },
    {
     "data": {
      "text/plain": [
       "6903"
      ]
     },
     "execution_count": 37,
     "metadata": {},
     "output_type": "execute_result"
    }
   ],
   "source": [
    "import tensorflow as tf\n",
    "\n",
    "# MNIST 데이터셋 로드\n",
    "mnist = tf.keras.datasets.mnist\n",
    "(train_images, train_labels), (test_images, test_labels) = mnist.load_data()\n",
    "\n",
    "# 레이블이 0인 표본의 수 계산\n",
    "count_train = sum(train_labels == 0)\n",
    "count_test = sum(test_labels == 0)\n",
    "total_count = count_train + count_test\n",
    "\n",
    "total_countb"
   ]
  },
  {
   "cell_type": "code",
   "execution_count": 40,
   "metadata": {},
   "outputs": [],
   "source": [
    "from sklearn.datasets import load_digits\n",
    "from sklearn.model_selection import train_test_split\n",
    "\n",
    "# load_digits 데이터셋 로드\n",
    "X, y = load_digits(return_X_y=True)\n",
    "\n",
    "# 훈련 및 테스트 데이터 분할\n",
    "xtrain, xtest, ytrain, ytest = train_test_split(X, y, test_size=0.33, random_state=1)\n",
    "\n",
    "# 레이블이 0인 표본의 수 계산\n",
    "count_zero_total = sum(y == 0)\n",
    "count_zero_train = sum(ytrain == 0)\n",
    "count_zero_test = sum(ytest == 0)\n",
    "\n"
   ]
  },
  {
   "cell_type": "code",
   "execution_count": 41,
   "metadata": {},
   "outputs": [
    {
     "data": {
      "text/plain": [
       "63"
      ]
     },
     "execution_count": 41,
     "metadata": {},
     "output_type": "execute_result"
    }
   ],
   "source": [
    "count_zero_test"
   ]
  }
 ],
 "metadata": {
  "colab": {
   "provenance": []
  },
  "kernelspec": {
   "display_name": "Python 3 (ipykernel)",
   "language": "python",
   "name": "python3"
  },
  "language_info": {
   "codemirror_mode": {
    "name": "ipython",
    "version": 3
   },
   "file_extension": ".py",
   "mimetype": "text/x-python",
   "name": "python",
   "nbconvert_exporter": "python",
   "pygments_lexer": "ipython3",
   "version": "3.9.13"
  }
 },
 "nbformat": 4,
 "nbformat_minor": 1
}
